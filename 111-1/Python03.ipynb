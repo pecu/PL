{
 "cells": [
  {
   "cell_type": "code",
   "execution_count": 1,
   "id": "f6fb833a",
   "metadata": {},
   "outputs": [],
   "source": [
    "d = {\n",
    "    \n",
    "'person1': {'name':'甲',\n",
    "           'age':40,\n",
    "           '罪責':{\n",
    "               '第62條':'汽車駕駛人駕駛汽車肇事',\n",
    "               '第12條':'汽車使用吊銷、註銷之牌照'\n",
    "           },\n",
    "           '罰鍰':{\n",
    "               '第62條':2000,\n",
    "               '第12條':5000\n",
    "           }},\n",
    "\n",
    "'person2': {'name':'乙',\n",
    "           'age':52,\n",
    "           '罪責':{\n",
    "               '第16條':'裝置高音量喇叭或其他產生噪音器物',\n",
    "               '第56條':'在禁止臨時停車處所停車',\n",
    "               '第82條':'未經許可在道路擺設攤位',\n",
    "               '第17條':'汽車不依限期參加定期檢驗或臨時檢驗'\n",
    "           },\n",
    "           \n",
    "           '罰鍰':{\n",
    "               '第16條':1200,\n",
    "               '第56條':800,\n",
    "               '第82條':1500,\n",
    "               '第17條':900\n",
    "           }},\n",
    "\n",
    "'person3': {'name':'丙',\n",
    "           'age':63,\n",
    "           '罪責':{\n",
    "               '第21條':'未領有駕駛執照駕駛小型車或機車'\n",
    "           },\n",
    "           '罰鍰':{\n",
    "               '第21條':8000\n",
    "           }}    \n",
    "    \n",
    "}"
   ]
  },
  {
   "cell_type": "code",
   "execution_count": 2,
   "id": "98ba9229",
   "metadata": {},
   "outputs": [
    {
     "data": {
      "text/plain": [
       "dict_items([('person1', {'name': '甲', 'age': 40, '罪責': {'第62條': '汽車駕駛人駕駛汽車肇事', '第12條': '汽車使用吊銷、註銷之牌照'}, '罰鍰': {'第62條': 2000, '第12條': 5000}}), ('person2', {'name': '乙', 'age': 52, '罪責': {'第16條': '裝置高音量喇叭或其他產生噪音器物', '第56條': '在禁止臨時停車處所停車', '第82條': '未經許可在道路擺設攤位', '第17條': '汽車不依限期參加定期檢驗或臨時檢驗'}, '罰鍰': {'第16條': 1200, '第56條': 800, '第82條': 1500, '第17條': 900}}), ('person3', {'name': '丙', 'age': 63, '罪責': {'第21條': '未領有駕駛執照駕駛小型車或機車'}, '罰鍰': {'第21條': 8000}})])"
      ]
     },
     "execution_count": 2,
     "metadata": {},
     "output_type": "execute_result"
    }
   ],
   "source": [
    "d.items()"
   ]
  },
  {
   "cell_type": "code",
   "execution_count": 15,
   "id": "da48d7a9",
   "metadata": {},
   "outputs": [
    {
     "name": "stdout",
     "output_type": "stream",
     "text": [
      "2\n",
      "[('第62條', '汽車駕駛人駕駛汽車肇事'), ('第12條', '汽車使用吊銷、註銷之牌照')]\n",
      "4\n",
      "[('第16條', '裝置高音量喇叭或其他產生噪音器物'), ('第56條', '在禁止臨時停車處所停車'), ('第82條', '未經許可在道路擺設攤位'), ('第17條', '汽車不依限期參加定期檢驗或臨時檢驗')]\n",
      "1\n",
      "[('第21條', '未領有駕駛執照駕駛小型車或機車')]\n"
     ]
    }
   ],
   "source": [
    "for n in d.items():\n",
    "    #print(n[1])\n",
    "    a, b = guilt(n[1])\n",
    "    print(a)\n",
    "    print(b)"
   ]
  },
  {
   "cell_type": "code",
   "execution_count": null,
   "id": "1f2dde1a",
   "metadata": {},
   "outputs": [],
   "source": []
  },
  {
   "cell_type": "code",
   "execution_count": 9,
   "id": "d414e416",
   "metadata": {},
   "outputs": [],
   "source": [
    "#定義guilt()函數，計算罪責數和處存罪責內容\n",
    "def guilt(dict_name): \n",
    "    number = len(dict_name['罪責']) \n",
    "    #len()函式用來計算dict罪責共有幾個key\n",
    "    content = []\n",
    "    for i in dict_name['罪責']: #for crime in dict_name['罪責'].items:\n",
    "        crime = (i,dict_name['罪責'][i]) #用 .items 這行就可以不用\n",
    "        content.append(crime)\n",
    "    return number, content"
   ]
  },
  {
   "cell_type": "code",
   "execution_count": 10,
   "id": "10bb8c20",
   "metadata": {},
   "outputs": [],
   "source": [
    "#定義money()函數，計算總金額和處存罰鍰內容\n",
    "def money(dict_name): \n",
    "    sum = 0\n",
    "    content = []\n",
    "    for i in dict_name['罰鍰']: #for key, value in dict_name['罰鍰'].items:\n",
    "        crime = (i,dict_name['罰鍰'][i]) #crime = (key, value)\n",
    "        content.append(crime)\n",
    "        sum += dict_name['罰鍰'][i] #sum += value\n",
    "    return sum, content"
   ]
  },
  {
   "cell_type": "code",
   "execution_count": 51,
   "id": "3cac0014",
   "metadata": {},
   "outputs": [],
   "source": [
    "ranking_g = []\n",
    "ranking_m = []\n",
    "for i in d.items():\n",
    "    #print(i[1])\n",
    "    person_guilt_num, person_guilt_content = guilt(i[1])\n",
    "    person_money_sum, person_money_content = money(i[1])\n",
    "    ranking_g.append(person_guilt_num)\n",
    "    ranking_m.append(person_money_sum)"
   ]
  },
  {
   "cell_type": "code",
   "execution_count": 52,
   "id": "f0693cf1",
   "metadata": {},
   "outputs": [
    {
     "data": {
      "text/plain": [
       "[2, 4, 1]"
      ]
     },
     "execution_count": 52,
     "metadata": {},
     "output_type": "execute_result"
    }
   ],
   "source": [
    "ranking_g"
   ]
  },
  {
   "cell_type": "code",
   "execution_count": 53,
   "id": "69a24c42",
   "metadata": {},
   "outputs": [
    {
     "data": {
      "text/plain": [
       "[7000, 4400, 8000]"
      ]
     },
     "execution_count": 53,
     "metadata": {},
     "output_type": "execute_result"
    }
   ],
   "source": [
    "ranking_m"
   ]
  },
  {
   "cell_type": "code",
   "execution_count": 54,
   "id": "76e790b3",
   "metadata": {},
   "outputs": [],
   "source": [
    "ranking_g_enumerate = enumerate(ranking_g, start = 1)\n",
    "ranking_m_enumerate = enumerate(ranking_m, start = 1)"
   ]
  },
  {
   "cell_type": "code",
   "execution_count": 55,
   "id": "f6f22fed",
   "metadata": {},
   "outputs": [],
   "source": [
    "#進行排名\n",
    "ranking_g_enumerate_sorted = sorted(ranking_g_enumerate, key = lambda s: s[1], reverse = True)\n",
    "ranking_m_enumerate_sorted = sorted(ranking_m_enumerate, key = lambda s: s[1], reverse = True) "
   ]
  },
  {
   "cell_type": "code",
   "execution_count": 56,
   "id": "a119cffa",
   "metadata": {},
   "outputs": [
    {
     "data": {
      "text/plain": [
       "[(2, 4), (1, 2), (3, 1)]"
      ]
     },
     "execution_count": 56,
     "metadata": {},
     "output_type": "execute_result"
    }
   ],
   "source": [
    "ranking_g_enumerate_sorted"
   ]
  },
  {
   "cell_type": "code",
   "execution_count": 57,
   "id": "d779f272",
   "metadata": {},
   "outputs": [
    {
     "data": {
      "text/plain": [
       "[(3, 8000), (1, 7000), (2, 4400)]"
      ]
     },
     "execution_count": 57,
     "metadata": {},
     "output_type": "execute_result"
    }
   ],
   "source": [
    "ranking_m_enumerate_sorted"
   ]
  },
  {
   "cell_type": "code",
   "execution_count": null,
   "id": "4883e8a8",
   "metadata": {},
   "outputs": [],
   "source": []
  }
 ],
 "metadata": {
  "kernelspec": {
   "display_name": "Python 3 (ipykernel)",
   "language": "python",
   "name": "python3"
  },
  "language_info": {
   "codemirror_mode": {
    "name": "ipython",
    "version": 3
   },
   "file_extension": ".py",
   "mimetype": "text/x-python",
   "name": "python",
   "nbconvert_exporter": "python",
   "pygments_lexer": "ipython3",
   "version": "3.9.12"
  }
 },
 "nbformat": 4,
 "nbformat_minor": 5
}

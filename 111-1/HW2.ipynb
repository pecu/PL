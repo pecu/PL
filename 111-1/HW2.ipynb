{
 "cells": [
  {
   "cell_type": "code",
   "execution_count": 72,
   "id": "5399d778",
   "metadata": {},
   "outputs": [],
   "source": [
    "import json"
   ]
  },
  {
   "cell_type": "code",
   "execution_count": 73,
   "id": "655892d9",
   "metadata": {},
   "outputs": [
    {
     "data": {
      "text/plain": [
       "dict"
      ]
     },
     "execution_count": 73,
     "metadata": {},
     "output_type": "execute_result"
    }
   ],
   "source": [
    "test = open('csvjson.json',encoding=\"utf8\")\n",
    "Data = json.load(test)\n",
    "type(Data)"
   ]
  },
  {
   "cell_type": "code",
   "execution_count": 74,
   "id": "803ce006",
   "metadata": {},
   "outputs": [
    {
     "data": {
      "text/plain": [
       "dict_items([('members', [{'name': 'Molecule Man', 'age': 29, 'secretIdentity': 'Dan Jukes', 'powers': ['Radiation resistance', 'Turning tiny', 'Radiation blast']}, {'name': 'Madame Uppercut', 'age': 39, 'secretIdentity': 'Jane Wilson', 'powers': ['Million tonne punch', 'Damage resistance', 'Superhuman reflexes']}, {'name': 'Eternal Flame', 'age': 1000000, 'secretIdentity': 'Unknown', 'powers': ['Immortality', 'Heat Immunity', 'Inferno', 'Teleportation', 'Interdimensional travel']}])])"
      ]
     },
     "execution_count": 74,
     "metadata": {},
     "output_type": "execute_result"
    }
   ],
   "source": [
    "Data.items()"
   ]
  },
  {
   "cell_type": "code",
   "execution_count": 75,
   "id": "9b5f3c24",
   "metadata": {},
   "outputs": [
    {
     "data": {
      "text/plain": [
       "[{'name': 'Molecule Man',\n",
       "  'age': 29,\n",
       "  'secretIdentity': 'Dan Jukes',\n",
       "  'powers': ['Radiation resistance', 'Turning tiny', 'Radiation blast']},\n",
       " {'name': 'Madame Uppercut',\n",
       "  'age': 39,\n",
       "  'secretIdentity': 'Jane Wilson',\n",
       "  'powers': ['Million tonne punch',\n",
       "   'Damage resistance',\n",
       "   'Superhuman reflexes']},\n",
       " {'name': 'Eternal Flame',\n",
       "  'age': 1000000,\n",
       "  'secretIdentity': 'Unknown',\n",
       "  'powers': ['Immortality',\n",
       "   'Heat Immunity',\n",
       "   'Inferno',\n",
       "   'Teleportation',\n",
       "   'Interdimensional travel']}]"
      ]
     },
     "execution_count": 75,
     "metadata": {},
     "output_type": "execute_result"
    }
   ],
   "source": [
    "temp = Data.get('members')\n",
    "temp"
   ]
  },
  {
   "cell_type": "code",
   "execution_count": 76,
   "id": "4579c1ca",
   "metadata": {},
   "outputs": [],
   "source": [
    "#查詢使用者年紀\n",
    "ask = \"Molecule Man\""
   ]
  },
  {
   "cell_type": "code",
   "execution_count": 77,
   "id": "97cd7ea2",
   "metadata": {},
   "outputs": [
    {
     "name": "stdout",
     "output_type": "stream",
     "text": [
      "Molecule Man 是 29 歲\n"
     ]
    }
   ],
   "source": [
    "for i in temp:\n",
    "    if ask == i.get('name'):\n",
    "        print(ask, '是', i.get('age'), '歲')    "
   ]
  },
  {
   "cell_type": "code",
   "execution_count": 78,
   "id": "029ab1b9",
   "metadata": {},
   "outputs": [
    {
     "data": {
      "text/plain": [
       "[29, 39, 1000000]"
      ]
     },
     "execution_count": 78,
     "metadata": {},
     "output_type": "execute_result"
    }
   ],
   "source": [
    "#排序年紀\n",
    "allage = []\n",
    "for i in temp:\n",
    "    allage.append(i.get('age'))\n",
    "allage"
   ]
  },
  {
   "cell_type": "code",
   "execution_count": 79,
   "id": "68c6db06",
   "metadata": {},
   "outputs": [],
   "source": [
    "allage_enumerate = enumerate(allage, start = 1)"
   ]
  },
  {
   "cell_type": "code",
   "execution_count": 80,
   "id": "a44a238e",
   "metadata": {},
   "outputs": [
    {
     "data": {
      "text/plain": [
       "[(3, 1000000), (2, 39), (1, 29)]"
      ]
     },
     "execution_count": 80,
     "metadata": {},
     "output_type": "execute_result"
    }
   ],
   "source": [
    "allage_enumerate_sorted = sorted(allage_enumerate, key = lambda s: s[1], reverse = True)\n",
    "allage_enumerate_sorted"
   ]
  },
  {
   "cell_type": "code",
   "execution_count": 82,
   "id": "f547191c",
   "metadata": {},
   "outputs": [
    {
     "data": {
      "text/plain": [
       "3"
      ]
     },
     "execution_count": 82,
     "metadata": {},
     "output_type": "execute_result"
    }
   ],
   "source": [
    "allage_enumerate_sorted[0][0]"
   ]
  },
  {
   "cell_type": "code",
   "execution_count": 89,
   "id": "b2be07df",
   "metadata": {},
   "outputs": [
    {
     "name": "stdout",
     "output_type": "stream",
     "text": [
      "Eternal Flame 是 1000000 歲\n",
      "Madame Uppercut 是 39 歲\n",
      "Molecule Man 是 29 歲\n"
     ]
    }
   ],
   "source": [
    "# 印出排序過後的年紀與名字\n",
    "for i in allage_enumerate_sorted:\n",
    "    j = i[0] - 1\n",
    "    print(temp[j].get('name'), '是', temp[j].get('age'), '歲')"
   ]
  },
  {
   "cell_type": "code",
   "execution_count": null,
   "id": "7cbbe38a",
   "metadata": {},
   "outputs": [],
   "source": []
  }
 ],
 "metadata": {
  "kernelspec": {
   "display_name": "Python 3 (ipykernel)",
   "language": "python",
   "name": "python3"
  },
  "language_info": {
   "codemirror_mode": {
    "name": "ipython",
    "version": 3
   },
   "file_extension": ".py",
   "mimetype": "text/x-python",
   "name": "python",
   "nbconvert_exporter": "python",
   "pygments_lexer": "ipython3",
   "version": "3.9.12"
  }
 },
 "nbformat": 4,
 "nbformat_minor": 5
}

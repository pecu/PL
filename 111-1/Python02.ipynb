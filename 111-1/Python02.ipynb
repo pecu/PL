{
 "cells": [
  {
   "cell_type": "code",
   "execution_count": 1,
   "id": "c9e3e083",
   "metadata": {},
   "outputs": [],
   "source": [
    "import pandas as pd\n",
    "\n",
    "# read csv file\n",
    "tax = pd.read_csv(\"tax.csv\")"
   ]
  },
  {
   "cell_type": "code",
   "execution_count": 2,
   "id": "bf92a7c4",
   "metadata": {},
   "outputs": [
    {
     "data": {
      "text/html": [
       "<div>\n",
       "<style scoped>\n",
       "    .dataframe tbody tr th:only-of-type {\n",
       "        vertical-align: middle;\n",
       "    }\n",
       "\n",
       "    .dataframe tbody tr th {\n",
       "        vertical-align: top;\n",
       "    }\n",
       "\n",
       "    .dataframe thead th {\n",
       "        text-align: right;\n",
       "    }\n",
       "</style>\n",
       "<table border=\"1\" class=\"dataframe\">\n",
       "  <thead>\n",
       "    <tr style=\"text-align: right;\">\n",
       "      <th></th>\n",
       "      <th>資料年度</th>\n",
       "      <th>申報類別</th>\n",
       "      <th>申報方式</th>\n",
       "      <th>統計金額來源</th>\n",
       "      <th>件數</th>\n",
       "      <th>金額(百萬元)</th>\n",
       "    </tr>\n",
       "  </thead>\n",
       "  <tbody>\n",
       "    <tr>\n",
       "      <th>67</th>\n",
       "      <td>110</td>\n",
       "      <td>一般案件</td>\n",
       "      <td>網路申報</td>\n",
       "      <td>暫繳申報書第02欄(試算案件為試算表第60欄)</td>\n",
       "      <td>13644</td>\n",
       "      <td>43053</td>\n",
       "    </tr>\n",
       "    <tr>\n",
       "      <th>68</th>\n",
       "      <td>110</td>\n",
       "      <td>試算案件</td>\n",
       "      <td>人工申報</td>\n",
       "      <td>暫繳申報書第06欄(試算案件為試算表第64欄)</td>\n",
       "      <td>0</td>\n",
       "      <td>0</td>\n",
       "    </tr>\n",
       "    <tr>\n",
       "      <th>69</th>\n",
       "      <td>110</td>\n",
       "      <td>試算案件</td>\n",
       "      <td>人工申報</td>\n",
       "      <td>暫繳申報書第02欄(試算案件為試算表第60欄)</td>\n",
       "      <td>0</td>\n",
       "      <td>0</td>\n",
       "    </tr>\n",
       "    <tr>\n",
       "      <th>70</th>\n",
       "      <td>110</td>\n",
       "      <td>試算案件</td>\n",
       "      <td>網路申報</td>\n",
       "      <td>暫繳申報書第06欄(試算案件為試算表第64欄)</td>\n",
       "      <td>82</td>\n",
       "      <td>3598</td>\n",
       "    </tr>\n",
       "    <tr>\n",
       "      <th>71</th>\n",
       "      <td>110</td>\n",
       "      <td>試算案件</td>\n",
       "      <td>網路申報</td>\n",
       "      <td>暫繳申報書第02欄(試算案件為試算表第60欄)</td>\n",
       "      <td>82</td>\n",
       "      <td>4702</td>\n",
       "    </tr>\n",
       "  </tbody>\n",
       "</table>\n",
       "</div>"
      ],
      "text/plain": [
       "    資料年度  申報類別  申報方式                   統計金額來源     件數  金額(百萬元)\n",
       "67   110  一般案件  網路申報  暫繳申報書第02欄(試算案件為試算表第60欄)  13644    43053\n",
       "68   110  試算案件  人工申報  暫繳申報書第06欄(試算案件為試算表第64欄)      0        0\n",
       "69   110  試算案件  人工申報  暫繳申報書第02欄(試算案件為試算表第60欄)      0        0\n",
       "70   110  試算案件  網路申報  暫繳申報書第06欄(試算案件為試算表第64欄)     82     3598\n",
       "71   110  試算案件  網路申報  暫繳申報書第02欄(試算案件為試算表第60欄)     82     4702"
      ]
     },
     "execution_count": 2,
     "metadata": {},
     "output_type": "execute_result"
    }
   ],
   "source": [
    "tax.tail()"
   ]
  },
  {
   "cell_type": "code",
   "execution_count": 3,
   "id": "c6e097fd",
   "metadata": {},
   "outputs": [
    {
     "name": "stdout",
     "output_type": "stream",
     "text": [
      "全部申報方式樣本數: 72\n"
     ]
    }
   ],
   "source": [
    "source = list(tax['申報方式'])\n",
    "print(\"全部申報方式樣本數:\", len(source))"
   ]
  },
  {
   "cell_type": "code",
   "execution_count": 7,
   "id": "317ea739",
   "metadata": {},
   "outputs": [
    {
     "name": "stdout",
     "output_type": "stream",
     "text": [
      "['憲法', '法律', '命令']\n"
     ]
    }
   ],
   "source": [
    "ls=[\"憲法\",\"法律\",\"命令\",\"地方法規\"]\n",
    "print(ls[0:3])"
   ]
  },
  {
   "cell_type": "code",
   "execution_count": 8,
   "id": "15afab9c",
   "metadata": {},
   "outputs": [
    {
     "data": {
      "text/plain": [
       "{'命令', '地方法規', '憲法', '法律'}"
      ]
     },
     "execution_count": 8,
     "metadata": {},
     "output_type": "execute_result"
    }
   ],
   "source": [
    "set1 = {\"憲法\",\"法律\",\"命令\",\"地方法規\"}\n",
    "set2 = {\"憲法\",\"法律\",\"命令\",\"中央指令\"}\n",
    "\n",
    "set1"
   ]
  },
  {
   "cell_type": "code",
   "execution_count": 9,
   "id": "3481091f",
   "metadata": {},
   "outputs": [
    {
     "data": {
      "text/plain": [
       "{'中央指令', '命令', '憲法', '法律'}"
      ]
     },
     "execution_count": 9,
     "metadata": {},
     "output_type": "execute_result"
    }
   ],
   "source": [
    "set2"
   ]
  },
  {
   "cell_type": "code",
   "execution_count": 10,
   "id": "d95960b0",
   "metadata": {},
   "outputs": [
    {
     "data": {
      "text/plain": [
       "{'地方法規'}"
      ]
     },
     "execution_count": 10,
     "metadata": {},
     "output_type": "execute_result"
    }
   ],
   "source": [
    "set1 - set2"
   ]
  },
  {
   "cell_type": "code",
   "execution_count": 11,
   "id": "5a473880",
   "metadata": {},
   "outputs": [
    {
     "data": {
      "text/plain": [
       "{'中央指令'}"
      ]
     },
     "execution_count": 11,
     "metadata": {},
     "output_type": "execute_result"
    }
   ],
   "source": [
    "set2 - set1"
   ]
  },
  {
   "cell_type": "code",
   "execution_count": null,
   "id": "4bdf8bed",
   "metadata": {},
   "outputs": [],
   "source": []
  }
 ],
 "metadata": {
  "kernelspec": {
   "display_name": "Python 3 (ipykernel)",
   "language": "python",
   "name": "python3"
  },
  "language_info": {
   "codemirror_mode": {
    "name": "ipython",
    "version": 3
   },
   "file_extension": ".py",
   "mimetype": "text/x-python",
   "name": "python",
   "nbconvert_exporter": "python",
   "pygments_lexer": "ipython3",
   "version": "3.9.12"
  }
 },
 "nbformat": 4,
 "nbformat_minor": 5
}

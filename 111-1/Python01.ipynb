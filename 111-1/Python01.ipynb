{
 "cells": [
  {
   "cell_type": "code",
   "execution_count": 107,
   "id": "a722edb8",
   "metadata": {},
   "outputs": [],
   "source": [
    "str1 = '刑法第二百八十四條第一項前段之過失傷害罪，法定刑為六月以下有期徒刑、拘役或五百元以下罰金，本條雖未經修正，然據修正後刑法施行法增訂第一條之一'"
   ]
  },
  {
   "cell_type": "code",
   "execution_count": 108,
   "id": "70b293b1",
   "metadata": {},
   "outputs": [
    {
     "data": {
      "text/plain": [
       "'刑法第二百八十四條第一項前段之過失傷害罪，法定刑為六月以下有期徒刑、拘役或五百元以下罰金，本條雖未經修正，然據修正後刑法施行法增訂第一條之一'"
      ]
     },
     "execution_count": 108,
     "metadata": {},
     "output_type": "execute_result"
    }
   ],
   "source": [
    "str1"
   ]
  },
  {
   "cell_type": "code",
   "execution_count": 109,
   "id": "66c3803c",
   "metadata": {},
   "outputs": [
    {
     "name": "stdout",
     "output_type": "stream",
     "text": [
      "刑法第二百八十四條第一項前段之過失傷害罪，法定刑為六月以下有期徒刑、拘役或五百元以下罰金，本條雖未經修正，然據修正後刑法施行法增訂第一條之一\n"
     ]
    }
   ],
   "source": [
    "print(str1)"
   ]
  },
  {
   "cell_type": "code",
   "execution_count": 110,
   "id": "04a084c5",
   "metadata": {},
   "outputs": [],
   "source": [
    "money=700\n",
    "year=6"
   ]
  },
  {
   "cell_type": "code",
   "execution_count": 111,
   "id": "17bee6e8",
   "metadata": {},
   "outputs": [
    {
     "data": {
      "text/plain": [
       "700"
      ]
     },
     "execution_count": 111,
     "metadata": {},
     "output_type": "execute_result"
    }
   ],
   "source": [
    "money"
   ]
  },
  {
   "cell_type": "code",
   "execution_count": 112,
   "id": "ceb86643",
   "metadata": {},
   "outputs": [
    {
     "data": {
      "text/plain": [
       "6"
      ]
     },
     "execution_count": 112,
     "metadata": {},
     "output_type": "execute_result"
    }
   ],
   "source": [
    "year"
   ]
  },
  {
   "cell_type": "code",
   "execution_count": 113,
   "id": "ebf5a6c1",
   "metadata": {},
   "outputs": [
    {
     "name": "stdout",
     "output_type": "stream",
     "text": [
      "罰金 700 元\n"
     ]
    }
   ],
   "source": [
    "print(\"罰金\", money, \"元\")"
   ]
  },
  {
   "cell_type": "code",
   "execution_count": 195,
   "id": "c9e3e083",
   "metadata": {},
   "outputs": [],
   "source": [
    "import pandas as pd\n",
    "\n",
    "# read csv file\n",
    "allstudent = pd.read_csv(\"allstudent.csv\")\n",
    "applystudent = pd.read_csv(\"applystudent.csv\")"
   ]
  },
  {
   "cell_type": "code",
   "execution_count": 196,
   "id": "bf92a7c4",
   "metadata": {},
   "outputs": [
    {
     "data": {
      "text/html": [
       "<div>\n",
       "<style scoped>\n",
       "    .dataframe tbody tr th:only-of-type {\n",
       "        vertical-align: middle;\n",
       "    }\n",
       "\n",
       "    .dataframe tbody tr th {\n",
       "        vertical-align: top;\n",
       "    }\n",
       "\n",
       "    .dataframe thead th {\n",
       "        text-align: right;\n",
       "    }\n",
       "</style>\n",
       "<table border=\"1\" class=\"dataframe\">\n",
       "  <thead>\n",
       "    <tr style=\"text-align: right;\">\n",
       "      <th></th>\n",
       "      <th>姓名</th>\n",
       "      <th>學號</th>\n",
       "      <th>電子郵件信箱</th>\n",
       "    </tr>\n",
       "  </thead>\n",
       "  <tbody>\n",
       "    <tr>\n",
       "      <th>40</th>\n",
       "      <td>邱致瑋</td>\n",
       "      <td>41071211H</td>\n",
       "      <td>will.cw.chiou@gmail.com</td>\n",
       "    </tr>\n",
       "    <tr>\n",
       "      <th>41</th>\n",
       "      <td>杜洺鋒</td>\n",
       "      <td>41071227H</td>\n",
       "      <td>41071227H@gapps.ntnu.edu.tw</td>\n",
       "    </tr>\n",
       "    <tr>\n",
       "      <th>42</th>\n",
       "      <td>魏士凱</td>\n",
       "      <td>41071229H</td>\n",
       "      <td>41071229h@gapps.ntnu.edu.tw</td>\n",
       "    </tr>\n",
       "    <tr>\n",
       "      <th>43</th>\n",
       "      <td>廖誌晨</td>\n",
       "      <td>41171212H</td>\n",
       "      <td>r995022526651@gmail.com</td>\n",
       "    </tr>\n",
       "    <tr>\n",
       "      <th>44</th>\n",
       "      <td>蔡昱宏</td>\n",
       "      <td>91199015Y</td>\n",
       "      <td>andersontsaitw@gmail.com</td>\n",
       "    </tr>\n",
       "  </tbody>\n",
       "</table>\n",
       "</div>"
      ],
      "text/plain": [
       "     姓名         學號                       電子郵件信箱\n",
       "40  邱致瑋  41071211H      will.cw.chiou@gmail.com\n",
       "41  杜洺鋒  41071227H  41071227H@gapps.ntnu.edu.tw\n",
       "42  魏士凱  41071229H  41071229h@gapps.ntnu.edu.tw\n",
       "43  廖誌晨  41171212H      r995022526651@gmail.com\n",
       "44  蔡昱宏  91199015Y     andersontsaitw@gmail.com"
      ]
     },
     "execution_count": 196,
     "metadata": {},
     "output_type": "execute_result"
    }
   ],
   "source": [
    "allstudent.tail()"
   ]
  },
  {
   "cell_type": "code",
   "execution_count": 197,
   "id": "c6e097fd",
   "metadata": {},
   "outputs": [
    {
     "name": "stdout",
     "output_type": "stream",
     "text": [
      "全部修課學生數: 45  vs. 提交表單學生數(可能有重複繳交): 55\n"
     ]
    }
   ],
   "source": [
    "alldata = list(allstudent['學號'])\n",
    "print(\"全部修課學生數:\", len(alldata), \" vs. 提交表單學生數(可能有重複繳交):\", len(applystudent))"
   ]
  },
  {
   "cell_type": "code",
   "execution_count": 198,
   "id": "e7337087",
   "metadata": {},
   "outputs": [
    {
     "data": {
      "text/html": [
       "<div>\n",
       "<style scoped>\n",
       "    .dataframe tbody tr th:only-of-type {\n",
       "        vertical-align: middle;\n",
       "    }\n",
       "\n",
       "    .dataframe tbody tr th {\n",
       "        vertical-align: top;\n",
       "    }\n",
       "\n",
       "    .dataframe thead th {\n",
       "        text-align: right;\n",
       "    }\n",
       "</style>\n",
       "<table border=\"1\" class=\"dataframe\">\n",
       "  <thead>\n",
       "    <tr style=\"text-align: right;\">\n",
       "      <th></th>\n",
       "      <th>學號</th>\n",
       "    </tr>\n",
       "  </thead>\n",
       "  <tbody>\n",
       "    <tr>\n",
       "      <th>0</th>\n",
       "      <td>41071119H</td>\n",
       "    </tr>\n",
       "    <tr>\n",
       "      <th>1</th>\n",
       "      <td>41071107H</td>\n",
       "    </tr>\n",
       "    <tr>\n",
       "      <th>2</th>\n",
       "      <td>41071117H</td>\n",
       "    </tr>\n",
       "    <tr>\n",
       "      <th>3</th>\n",
       "      <td>40971130H</td>\n",
       "    </tr>\n",
       "    <tr>\n",
       "      <th>4</th>\n",
       "      <td>40971122h</td>\n",
       "    </tr>\n",
       "  </tbody>\n",
       "</table>\n",
       "</div>"
      ],
      "text/plain": [
       "          學號\n",
       "0  41071119H\n",
       "1  41071107H\n",
       "2  41071117H\n",
       "3  40971130H\n",
       "4  40971122h"
      ]
     },
     "execution_count": 198,
     "metadata": {},
     "output_type": "execute_result"
    }
   ],
   "source": [
    "final_df = applystudent.drop_duplicates(subset=['學號'])\n",
    "final_df.head()"
   ]
  },
  {
   "cell_type": "code",
   "execution_count": 199,
   "id": "ff360944",
   "metadata": {},
   "outputs": [
    {
     "name": "stdout",
     "output_type": "stream",
     "text": [
      "剔除掉重複繳交的學生人數: 44\n"
     ]
    }
   ],
   "source": [
    "applys = list(final_df['學號'].str.upper()) #強制將所有學號的英文字母都變成大寫\n",
    "print(\"剔除掉重複繳交的學生人數:\", len(applys))"
   ]
  },
  {
   "cell_type": "code",
   "execution_count": 200,
   "id": "6eff9ce4",
   "metadata": {},
   "outputs": [
    {
     "data": {
      "text/plain": [
       "['41071119H',\n",
       " '41071107H',\n",
       " '41071117H',\n",
       " '40971130H',\n",
       " '40971122H',\n",
       " '40971125H',\n",
       " '41171212H',\n",
       " '41071213H',\n",
       " '41071127H',\n",
       " '41071115H',\n",
       " '60971037H',\n",
       " '41071122H',\n",
       " '41071110H',\n",
       " '41071118H',\n",
       " '41071104H',\n",
       " '41071227H',\n",
       " '41071106H',\n",
       " '40923117L',\n",
       " '41071120H',\n",
       " '40923213L',\n",
       " '41071205H',\n",
       " '41071105H',\n",
       " '41071102H',\n",
       " '41071211H',\n",
       " '41071103H',\n",
       " '41071134H',\n",
       " '41071129H',\n",
       " '41071109H',\n",
       " '41071101H',\n",
       " '40971203H',\n",
       " '40871117H',\n",
       " '41071112H',\n",
       " '41071124H',\n",
       " '40971117H',\n",
       " '41071111H',\n",
       " '40971116H',\n",
       " '41071108H',\n",
       " '41071229H',\n",
       " '40971225H',\n",
       " '41071132H',\n",
       " '40971229H',\n",
       " '41071133H',\n",
       " '91199015Y',\n",
       " '61071009H']"
      ]
     },
     "execution_count": 200,
     "metadata": {},
     "output_type": "execute_result"
    }
   ],
   "source": [
    "applys"
   ]
  },
  {
   "cell_type": "code",
   "execution_count": 192,
   "id": "711210c1",
   "metadata": {},
   "outputs": [
    {
     "data": {
      "text/plain": [
       "{'40871215H', '41071116H'}"
      ]
     },
     "execution_count": 192,
     "metadata": {},
     "output_type": "execute_result"
    }
   ],
   "source": [
    "set(alldata).difference(set(applys)) #找到在選課名單裡，卻沒有繳交任務的學生"
   ]
  },
  {
   "cell_type": "code",
   "execution_count": 201,
   "id": "61714252",
   "metadata": {},
   "outputs": [
    {
     "data": {
      "text/plain": [
       "{'61071009H'}"
      ]
     },
     "execution_count": 201,
     "metadata": {},
     "output_type": "execute_result"
    }
   ],
   "source": [
    "set(applys).difference(set(alldata)) #找到在繳交列表中，但沒有出現在選課名單裡的學生"
   ]
  },
  {
   "cell_type": "code",
   "execution_count": null,
   "id": "91dca75b",
   "metadata": {},
   "outputs": [],
   "source": [
    "# 參考範例: https://ithelp.ithome.com.tw/articles/10186540"
   ]
  }
 ],
 "metadata": {
  "kernelspec": {
   "display_name": "Python 3 (ipykernel)",
   "language": "python",
   "name": "python3"
  },
  "language_info": {
   "codemirror_mode": {
    "name": "ipython",
    "version": 3
   },
   "file_extension": ".py",
   "mimetype": "text/x-python",
   "name": "python",
   "nbconvert_exporter": "python",
   "pygments_lexer": "ipython3",
   "version": "3.9.12"
  }
 },
 "nbformat": 4,
 "nbformat_minor": 5
}

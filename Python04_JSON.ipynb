{
 "cells": [
  {
   "cell_type": "code",
   "execution_count": 1,
   "id": "288afaa6",
   "metadata": {},
   "outputs": [
    {
     "data": {
      "text/plain": [
       "{'甲生': 100, '乙生': 102, '丙生': 101}"
      ]
     },
     "execution_count": 1,
     "metadata": {},
     "output_type": "execute_result"
    }
   ],
   "source": [
    "student_dict = {'甲生':100, '乙生':102, '丙生':101}\n",
    "student_dict"
   ]
  },
  {
   "cell_type": "code",
   "execution_count": 3,
   "id": "402adcb9",
   "metadata": {},
   "outputs": [],
   "source": [
    "import json\n",
    "with open('Data{0}.json'.format(1), 'w', encoding='utf-8') as file:\n",
    "    json.dump(student_dict, file, ensure_ascii=False)"
   ]
  },
  {
   "cell_type": "code",
   "execution_count": null,
   "id": "b729e591",
   "metadata": {},
   "outputs": [],
   "source": []
  }
 ],
 "metadata": {
  "kernelspec": {
   "display_name": "Python 3 (ipykernel)",
   "language": "python",
   "name": "python3"
  },
  "language_info": {
   "codemirror_mode": {
    "name": "ipython",
    "version": 3
   },
   "file_extension": ".py",
   "mimetype": "text/x-python",
   "name": "python",
   "nbconvert_exporter": "python",
   "pygments_lexer": "ipython3",
   "version": "3.9.12"
  }
 },
 "nbformat": 4,
 "nbformat_minor": 5
}

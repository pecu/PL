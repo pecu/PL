{
 "cells": [
  {
   "cell_type": "code",
   "execution_count": 1,
   "metadata": {},
   "outputs": [
    {
     "name": "stdout",
     "output_type": "stream",
     "text": [
      "Requirement already satisfied: pandas in c:\\users\\pecu\\anaconda3\\lib\\site-packages (1.4.2)\n",
      "Requirement already satisfied: numpy>=1.18.5 in c:\\users\\pecu\\anaconda3\\lib\\site-packages (from pandas) (1.21.5)\n",
      "Requirement already satisfied: python-dateutil>=2.8.1 in c:\\users\\pecu\\anaconda3\\lib\\site-packages (from pandas) (2.8.2)\n",
      "Requirement already satisfied: pytz>=2020.1 in c:\\users\\pecu\\anaconda3\\lib\\site-packages (from pandas) (2021.3)\n",
      "Requirement already satisfied: six>=1.5 in c:\\users\\pecu\\anaconda3\\lib\\site-packages (from python-dateutil>=2.8.1->pandas) (1.16.0)\n"
     ]
    }
   ],
   "source": [
    "! pip install pandas"
   ]
  },
  {
   "cell_type": "code",
   "execution_count": 2,
   "metadata": {},
   "outputs": [],
   "source": [
    "import pandas as pd\n",
    "\n",
    "# 替換 'your_file.csv' 為你的 CSV 檔案路徑\n",
    "pl = pd.read_csv('pl.csv')\n",
    "ds = pd.read_csv('ds.csv')"
   ]
  },
  {
   "cell_type": "code",
   "execution_count": 4,
   "metadata": {},
   "outputs": [
    {
     "data": {
      "text/html": [
       "<div>\n",
       "<style scoped>\n",
       "    .dataframe tbody tr th:only-of-type {\n",
       "        vertical-align: middle;\n",
       "    }\n",
       "\n",
       "    .dataframe tbody tr th {\n",
       "        vertical-align: top;\n",
       "    }\n",
       "\n",
       "    .dataframe thead th {\n",
       "        text-align: right;\n",
       "    }\n",
       "</style>\n",
       "<table border=\"1\" class=\"dataframe\">\n",
       "  <thead>\n",
       "    <tr style=\"text-align: right;\">\n",
       "      <th></th>\n",
       "      <th>姓名</th>\n",
       "      <th>學(帳)號</th>\n",
       "      <th>電子郵件信箱</th>\n",
       "    </tr>\n",
       "  </thead>\n",
       "  <tbody>\n",
       "    <tr>\n",
       "      <th>0</th>\n",
       "      <td>呂茗憲</td>\n",
       "      <td>40971227H</td>\n",
       "      <td>91120chris@gmail.com</td>\n",
       "    </tr>\n",
       "    <tr>\n",
       "      <th>1</th>\n",
       "      <td>陳惠</td>\n",
       "      <td>40923229L</td>\n",
       "      <td>chenhui20020709@gmail.com</td>\n",
       "    </tr>\n",
       "    <tr>\n",
       "      <th>2</th>\n",
       "      <td>劉冠忠</td>\n",
       "      <td>40957041O</td>\n",
       "      <td>akuang0904@gmail.com</td>\n",
       "    </tr>\n",
       "    <tr>\n",
       "      <th>3</th>\n",
       "      <td>王楚鈞</td>\n",
       "      <td>NTU_B09204028</td>\n",
       "      <td>wongchujun@gmail.com</td>\n",
       "    </tr>\n",
       "    <tr>\n",
       "      <th>4</th>\n",
       "      <td>林盈婕</td>\n",
       "      <td>40971102H</td>\n",
       "      <td>40971102h@ntnu.edu.tw</td>\n",
       "    </tr>\n",
       "  </tbody>\n",
       "</table>\n",
       "</div>"
      ],
      "text/plain": [
       "    姓名          學(帳)號                     電子郵件信箱\n",
       "0  呂茗憲      40971227H       91120chris@gmail.com\n",
       "1   陳惠      40923229L  chenhui20020709@gmail.com\n",
       "2  劉冠忠      40957041O       akuang0904@gmail.com\n",
       "3  王楚鈞  NTU_B09204028       wongchujun@gmail.com\n",
       "4  林盈婕      40971102H      40971102h@ntnu.edu.tw"
      ]
     },
     "execution_count": 4,
     "metadata": {},
     "output_type": "execute_result"
    }
   ],
   "source": [
    "pl.head()"
   ]
  },
  {
   "cell_type": "code",
   "execution_count": 5,
   "metadata": {},
   "outputs": [
    {
     "data": {
      "text/html": [
       "<div>\n",
       "<style scoped>\n",
       "    .dataframe tbody tr th:only-of-type {\n",
       "        vertical-align: middle;\n",
       "    }\n",
       "\n",
       "    .dataframe tbody tr th {\n",
       "        vertical-align: top;\n",
       "    }\n",
       "\n",
       "    .dataframe thead th {\n",
       "        text-align: right;\n",
       "    }\n",
       "</style>\n",
       "<table border=\"1\" class=\"dataframe\">\n",
       "  <thead>\n",
       "    <tr style=\"text-align: right;\">\n",
       "      <th></th>\n",
       "      <th>姓名</th>\n",
       "      <th>學(帳)號</th>\n",
       "      <th>電子郵件信箱</th>\n",
       "    </tr>\n",
       "  </thead>\n",
       "  <tbody>\n",
       "    <tr>\n",
       "      <th>0</th>\n",
       "      <td>鄭遠承</td>\n",
       "      <td>40830050A</td>\n",
       "      <td>Oscar5534920@gmail.com</td>\n",
       "    </tr>\n",
       "    <tr>\n",
       "      <th>1</th>\n",
       "      <td>孫唯真</td>\n",
       "      <td>40975028H</td>\n",
       "      <td>suen333mia@gmail.com</td>\n",
       "    </tr>\n",
       "    <tr>\n",
       "      <th>2</th>\n",
       "      <td>柯幸孜</td>\n",
       "      <td>41071105H</td>\n",
       "      <td>41071105H@gapps.ntnu.edu.tw</td>\n",
       "    </tr>\n",
       "    <tr>\n",
       "      <th>3</th>\n",
       "      <td>孙源智</td>\n",
       "      <td>41013018E</td>\n",
       "      <td>ydsoon02@gmail.com</td>\n",
       "    </tr>\n",
       "    <tr>\n",
       "      <th>4</th>\n",
       "      <td>林志遠</td>\n",
       "      <td>41071104H</td>\n",
       "      <td>41071104H@gapps.ntnu.edu.tw</td>\n",
       "    </tr>\n",
       "  </tbody>\n",
       "</table>\n",
       "</div>"
      ],
      "text/plain": [
       "    姓名      學(帳)號                       電子郵件信箱\n",
       "0  鄭遠承  40830050A       Oscar5534920@gmail.com\n",
       "1  孫唯真  40975028H         suen333mia@gmail.com\n",
       "2  柯幸孜  41071105H  41071105H@gapps.ntnu.edu.tw\n",
       "3  孙源智  41013018E           ydsoon02@gmail.com\n",
       "4  林志遠  41071104H  41071104H@gapps.ntnu.edu.tw"
      ]
     },
     "execution_count": 5,
     "metadata": {},
     "output_type": "execute_result"
    }
   ],
   "source": [
    "ds.head()"
   ]
  },
  {
   "cell_type": "code",
   "execution_count": 14,
   "metadata": {},
   "outputs": [],
   "source": [
    "pl_first_col = set(pl.iloc[:, 0])\n",
    "ds_first_col = set(ds.iloc[:, 0])"
   ]
  },
  {
   "cell_type": "code",
   "execution_count": 15,
   "metadata": {},
   "outputs": [
    {
     "data": {
      "text/plain": [
       "set"
      ]
     },
     "execution_count": 15,
     "metadata": {},
     "output_type": "execute_result"
    }
   ],
   "source": [
    "type(ds_first_col)"
   ]
  },
  {
   "cell_type": "code",
   "execution_count": 16,
   "metadata": {},
   "outputs": [
    {
     "data": {
      "text/plain": [
       "set"
      ]
     },
     "execution_count": 16,
     "metadata": {},
     "output_type": "execute_result"
    }
   ],
   "source": [
    "type(pl_first_col)"
   ]
  },
  {
   "cell_type": "code",
   "execution_count": 18,
   "metadata": {},
   "outputs": [
    {
     "name": "stdout",
     "output_type": "stream",
     "text": [
      "差集, 有修資料結構但沒有修程式語言的學生為: {'邱致瑋', '潘柔玉', '林立涵', '鄭遠承', '柯幸孜', '余永興', '林元方', '孟一鳴', '方宥鈞', '魏士凱', '游建佑', '施宏儒', '劉禹岑', '蔡馨雅', '劉彥谷', '孫唯真', '吳宜庭', '許家寧', '黃紫馨', '黃品嘉', '孙源智', '林冠秀', '李騰騏', '洪芷葳', '陳芊伃', '蔡宜柔', '林志遠', '翁健哲', '溫苡含'}\n",
      "交集, 同時修資料結構與程式語言的學生為: {'李佩宸', '王方瑩', '林軒宇', '康恩瑋', '詹喬崴', '孫士傑', '呂沛修', '鄭意平', '蔡芸琤', '陳廷安', '黃新瑞', '藍家蓁', '楊思瑜', '許瑋庭', '何舒葦', '翁睿承'}\n",
      "聯集, 有修程式語言或是資料結構的學生為: {'邱致瑋', '黃新瑞', '鄭遠承', '余永興', '黎嘉華', '林元方', '孟一鳴', '顏志凌', '張皓翔', '鄭意平', '王方瑩', '董承翰', '鄧亦宸', '蔡馨雅', '丁祺', '孫唯真', '吳宜庭', '潘穎翰', '楊思瑜', '呂茗憲', '郭昕宇', '林盈婕', '黃宇謙', '黃紫馨', '孫士傑', '孙源智', '林冠秀', '劉媞欣', '李騰騏', '陳芊伃', '林聿權', '藍家蓁', '溫苡含', '莊博宇', '陳芃屹', '林軒宇', '蔡欣芸', '陳惠', '潘柔玉', '林立涵', '吳承翰', '李佩宸', '柯幸孜', '吳昀晏', '張懷慈', '方宥鈞', '魏士凱', '游建佑', '何舒葦', '李心于', '翁睿承', '施宏儒', '劉禹岑', '康恩瑋', '劉彥谷', '陳廷安', '許家寧', '鄭銘霆', '周俊辰', '詹喬崴', '黃品嘉', '呂沛修', '洪芷葳', '王楚鈞', '蔡芸琤', '蔡宜柔', '鍾孟傑', '林志遠', '翁健哲', '許瑋庭', '劉冠忠'}\n"
     ]
    }
   ],
   "source": [
    "# 計算差集（在 set1 中但不在 set2 中的元素）\n",
    "difference = ds_first_col - pl_first_col\n",
    "\n",
    "# 計算交集（同時在 set1 和 set2 中的元素）\n",
    "intersection = ds_first_col & pl_first_col\n",
    "\n",
    "# 計算聯集（在 set1 或 set2 中的所有元素）\n",
    "union = ds_first_col | pl_first_col\n",
    "\n",
    "# 顯示結果\n",
    "print(\"差集, 有修資料結構但沒有修程式語言的學生為:\", difference)\n",
    "print(\"交集, 同時修資料結構與程式語言的學生為:\", intersection)\n",
    "print(\"聯集, 有修程式語言或是資料結構的學生為:\", union)"
   ]
  }
 ],
 "metadata": {
  "kernelspec": {
   "display_name": "base",
   "language": "python",
   "name": "python3"
  },
  "language_info": {
   "codemirror_mode": {
    "name": "ipython",
    "version": 3
   },
   "file_extension": ".py",
   "mimetype": "text/x-python",
   "name": "python",
   "nbconvert_exporter": "python",
   "pygments_lexer": "ipython3",
   "version": "3.9.12"
  }
 },
 "nbformat": 4,
 "nbformat_minor": 2
}

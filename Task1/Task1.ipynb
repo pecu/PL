{
 "cells": [
  {
   "cell_type": "code",
   "execution_count": 1,
   "id": "4ce243c1",
   "metadata": {},
   "outputs": [],
   "source": [
    "import pandas as pd\n",
    "\n",
    "play1 = pd.read_csv(\"play1.csv\")\n",
    "play2 = pd.read_csv(\"play2.csv\")"
   ]
  },
  {
   "cell_type": "code",
   "execution_count": 2,
   "id": "13b2b041",
   "metadata": {},
   "outputs": [
    {
     "data": {
      "text/html": [
       "<div>\n",
       "<style scoped>\n",
       "    .dataframe tbody tr th:only-of-type {\n",
       "        vertical-align: middle;\n",
       "    }\n",
       "\n",
       "    .dataframe tbody tr th {\n",
       "        vertical-align: top;\n",
       "    }\n",
       "\n",
       "    .dataframe thead th {\n",
       "        text-align: right;\n",
       "    }\n",
       "</style>\n",
       "<table border=\"1\" class=\"dataframe\">\n",
       "  <thead>\n",
       "    <tr style=\"text-align: right;\">\n",
       "      <th></th>\n",
       "      <th>球隊</th>\n",
       "      <th>名次</th>\n",
       "      <th>勝</th>\n",
       "      <th>負</th>\n",
       "      <th>勝率</th>\n",
       "    </tr>\n",
       "  </thead>\n",
       "  <tbody>\n",
       "    <tr>\n",
       "      <th>0</th>\n",
       "      <td>爵士</td>\n",
       "      <td>1</td>\n",
       "      <td>52</td>\n",
       "      <td>20</td>\n",
       "      <td>0.722</td>\n",
       "    </tr>\n",
       "    <tr>\n",
       "      <th>1</th>\n",
       "      <td>太陽</td>\n",
       "      <td>2</td>\n",
       "      <td>51</td>\n",
       "      <td>21</td>\n",
       "      <td>0.708</td>\n",
       "    </tr>\n",
       "    <tr>\n",
       "      <th>2</th>\n",
       "      <td>金塊</td>\n",
       "      <td>3</td>\n",
       "      <td>47</td>\n",
       "      <td>25</td>\n",
       "      <td>0.653</td>\n",
       "    </tr>\n",
       "    <tr>\n",
       "      <th>3</th>\n",
       "      <td>快艇</td>\n",
       "      <td>4</td>\n",
       "      <td>47</td>\n",
       "      <td>25</td>\n",
       "      <td>0.653</td>\n",
       "    </tr>\n",
       "    <tr>\n",
       "      <th>4</th>\n",
       "      <td>獨行俠</td>\n",
       "      <td>5</td>\n",
       "      <td>42</td>\n",
       "      <td>30</td>\n",
       "      <td>0.583</td>\n",
       "    </tr>\n",
       "  </tbody>\n",
       "</table>\n",
       "</div>"
      ],
      "text/plain": [
       "    球隊  名次   勝   負     勝率\n",
       "0   爵士   1  52  20  0.722\n",
       "1   太陽   2  51  21  0.708\n",
       "2   金塊   3  47  25  0.653\n",
       "3   快艇   4  47  25  0.653\n",
       "4  獨行俠   5  42  30  0.583"
      ]
     },
     "execution_count": 2,
     "metadata": {},
     "output_type": "execute_result"
    }
   ],
   "source": [
    "play1"
   ]
  },
  {
   "cell_type": "code",
   "execution_count": 3,
   "id": "44fd9c35",
   "metadata": {},
   "outputs": [
    {
     "data": {
      "text/html": [
       "<div>\n",
       "<style scoped>\n",
       "    .dataframe tbody tr th:only-of-type {\n",
       "        vertical-align: middle;\n",
       "    }\n",
       "\n",
       "    .dataframe tbody tr th {\n",
       "        vertical-align: top;\n",
       "    }\n",
       "\n",
       "    .dataframe thead th {\n",
       "        text-align: right;\n",
       "    }\n",
       "</style>\n",
       "<table border=\"1\" class=\"dataframe\">\n",
       "  <thead>\n",
       "    <tr style=\"text-align: right;\">\n",
       "      <th></th>\n",
       "      <th>球隊</th>\n",
       "      <th>名次</th>\n",
       "      <th>勝</th>\n",
       "      <th>負</th>\n",
       "      <th>勝率</th>\n",
       "    </tr>\n",
       "  </thead>\n",
       "  <tbody>\n",
       "    <tr>\n",
       "      <th>0</th>\n",
       "      <td>太陽</td>\n",
       "      <td>1</td>\n",
       "      <td>64</td>\n",
       "      <td>18</td>\n",
       "      <td>0.780</td>\n",
       "    </tr>\n",
       "    <tr>\n",
       "      <th>1</th>\n",
       "      <td>灰熊</td>\n",
       "      <td>2</td>\n",
       "      <td>56</td>\n",
       "      <td>26</td>\n",
       "      <td>0.683</td>\n",
       "    </tr>\n",
       "    <tr>\n",
       "      <th>2</th>\n",
       "      <td>勇士</td>\n",
       "      <td>3</td>\n",
       "      <td>53</td>\n",
       "      <td>29</td>\n",
       "      <td>0.646</td>\n",
       "    </tr>\n",
       "    <tr>\n",
       "      <th>3</th>\n",
       "      <td>獨行俠</td>\n",
       "      <td>4</td>\n",
       "      <td>52</td>\n",
       "      <td>30</td>\n",
       "      <td>0.634</td>\n",
       "    </tr>\n",
       "    <tr>\n",
       "      <th>4</th>\n",
       "      <td>爵士</td>\n",
       "      <td>5</td>\n",
       "      <td>49</td>\n",
       "      <td>33</td>\n",
       "      <td>0.598</td>\n",
       "    </tr>\n",
       "  </tbody>\n",
       "</table>\n",
       "</div>"
      ],
      "text/plain": [
       "    球隊  名次   勝   負     勝率\n",
       "0   太陽   1  64  18  0.780\n",
       "1   灰熊   2  56  26  0.683\n",
       "2   勇士   3  53  29  0.646\n",
       "3  獨行俠   4  52  30  0.634\n",
       "4   爵士   5  49  33  0.598"
      ]
     },
     "execution_count": 3,
     "metadata": {},
     "output_type": "execute_result"
    }
   ],
   "source": [
    "play2"
   ]
  },
  {
   "cell_type": "code",
   "execution_count": 11,
   "id": "452eba72",
   "metadata": {},
   "outputs": [],
   "source": [
    "list1 = set(list(play1['球隊']))\n",
    "list2 = set(list(play2['球隊']))"
   ]
  },
  {
   "cell_type": "code",
   "execution_count": 12,
   "id": "8f8356c9",
   "metadata": {},
   "outputs": [
    {
     "data": {
      "text/plain": [
       "{'太陽', '快艇', '爵士', '獨行俠', '金塊'}"
      ]
     },
     "execution_count": 12,
     "metadata": {},
     "output_type": "execute_result"
    }
   ],
   "source": [
    "list1"
   ]
  },
  {
   "cell_type": "code",
   "execution_count": 13,
   "id": "64b9e6fc",
   "metadata": {},
   "outputs": [
    {
     "data": {
      "text/plain": [
       "{'勇士', '太陽', '灰熊', '爵士', '獨行俠'}"
      ]
     },
     "execution_count": 13,
     "metadata": {},
     "output_type": "execute_result"
    }
   ],
   "source": [
    "list2"
   ]
  },
  {
   "cell_type": "code",
   "execution_count": 14,
   "id": "0d9322d0",
   "metadata": {},
   "outputs": [
    {
     "name": "stdout",
     "output_type": "stream",
     "text": [
      "{'太陽', '獨行俠', '爵士'}\n"
     ]
    }
   ],
   "source": [
    "# 交集 (兩次比賽都有出現的球隊)\n",
    "print(list1&list2)"
   ]
  },
  {
   "cell_type": "code",
   "execution_count": null,
   "id": "9428821b",
   "metadata": {},
   "outputs": [],
   "source": []
  }
 ],
 "metadata": {
  "kernelspec": {
   "display_name": "Python 3 (ipykernel)",
   "language": "python",
   "name": "python3"
  },
  "language_info": {
   "codemirror_mode": {
    "name": "ipython",
    "version": 3
   },
   "file_extension": ".py",
   "mimetype": "text/x-python",
   "name": "python",
   "nbconvert_exporter": "python",
   "pygments_lexer": "ipython3",
   "version": "3.9.12"
  }
 },
 "nbformat": 4,
 "nbformat_minor": 5
}

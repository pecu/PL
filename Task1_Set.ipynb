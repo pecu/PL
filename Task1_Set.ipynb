{
 "cells": [
  {
   "cell_type": "code",
   "execution_count": 4,
   "id": "887d7a3a",
   "metadata": {},
   "outputs": [],
   "source": [
    "import pandas as pd\n",
    "\n",
    "# 設定 CSV 檔案的路徑\n",
    "csv_file_path_PL = 'PL.csv'\n",
    "csv_file_path_WEB = 'WEB.csv'\n",
    "\n",
    "\n",
    "# 使用 pandas 的 read_csv 函式讀取 CSV 檔案並將其轉換為 DataFrame\n",
    "df_PL = pd.read_csv(csv_file_path_PL)\n",
    "df_WEB = pd.read_csv(csv_file_path_WEB)"
   ]
  },
  {
   "cell_type": "code",
   "execution_count": 5,
   "id": "10f11b10",
   "metadata": {},
   "outputs": [
    {
     "name": "stdout",
     "output_type": "stream",
     "text": [
      "{'黃品嘉', '許瑋庭', '楊芸蓁', '李勻歆', '李怡安', '梁巍瀚', '余永興', '溫苡含', '李騰騏', '鄭銘霆', '陳芊伃', '林冠秀', '陳俊翰', '游建佑', '潘柔玉', '劉彥谷'}\n"
     ]
    }
   ],
   "source": [
    "# 從 DataFrame 中取出學生名稱欄位，假設欄位名稱為 '學生名稱'，你可以根據實際情況調整\n",
    "student_names_PL = df_PL['姓名']\n",
    "student_names_WEB = df_WEB['姓名']\n",
    "\n",
    "\n",
    "# 將學生名稱轉換為 set 資料型態\n",
    "student_names_PL_set = set(student_names_PL)\n",
    "student_names_WEB_set = set(student_names_WEB)\n",
    "\n",
    "#同時選了PECU的程式語言和網際網路概論的學生是哪幾位\n",
    "print( student_names_PL_set & student_names_WEB_set )"
   ]
  },
  {
   "cell_type": "code",
   "execution_count": null,
   "id": "e8a0300d",
   "metadata": {},
   "outputs": [],
   "source": []
  }
 ],
 "metadata": {
  "kernelspec": {
   "display_name": "Python 3 (ipykernel)",
   "language": "python",
   "name": "python3"
  },
  "language_info": {
   "codemirror_mode": {
    "name": "ipython",
    "version": 3
   },
   "file_extension": ".py",
   "mimetype": "text/x-python",
   "name": "python",
   "nbconvert_exporter": "python",
   "pygments_lexer": "ipython3",
   "version": "3.9.12"
  }
 },
 "nbformat": 4,
 "nbformat_minor": 5
}

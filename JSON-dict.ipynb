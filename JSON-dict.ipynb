{
 "cells": [
  {
   "cell_type": "code",
   "execution_count": 25,
   "id": "5219bc37",
   "metadata": {},
   "outputs": [
    {
     "name": "stdout",
     "output_type": "stream",
     "text": [
      "The original dictionary is : {'Gfg': 1, 'is': 3, 'Best': 2, 'for': 3, 'Geeks': 2}\n"
     ]
    }
   ],
   "source": [
    "test_dict = {\"Gfg\" : 1, \"is\" :  3, \"Best\" : 2, \"for\" : 3, \"Geeks\" : 2}\n",
    " \n",
    "# printing original dictionary\n",
    "print(\"The original dictionary is : \" + str(test_dict))"
   ]
  },
  {
   "cell_type": "code",
   "execution_count": 26,
   "id": "a739d84b",
   "metadata": {},
   "outputs": [],
   "source": [
    "# - sign for descended values, omit if low-high sorting required\n",
    "res = {val[0] : val[1] for val in sorted(test_dict.items(), key = lambda x: (-x[1], x[0]))}"
   ]
  },
  {
   "cell_type": "code",
   "execution_count": 27,
   "id": "88261fdf",
   "metadata": {},
   "outputs": [
    {
     "name": "stdout",
     "output_type": "stream",
     "text": [
      "Sorted dictionary : {'for': 3, 'is': 3, 'Best': 2, 'Geeks': 2, 'Gfg': 1}\n"
     ]
    }
   ],
   "source": [
    "# printing result \n",
    "print(\"Sorted dictionary : \" + str(res)) "
   ]
  },
  {
   "cell_type": "code",
   "execution_count": 28,
   "id": "0f16af42",
   "metadata": {},
   "outputs": [],
   "source": [
    "import json\n",
    " \n",
    "file = open('data2.json', 'r', encoding='utf-8')"
   ]
  },
  {
   "cell_type": "code",
   "execution_count": 29,
   "id": "a7af9900",
   "metadata": {},
   "outputs": [
    {
     "name": "stdout",
     "output_type": "stream",
     "text": [
      "工業\n",
      "礦業及土石採取業\n",
      "製造業\n",
      "電力及燃氣供應業\n",
      "用水供應及污染整治業\n",
      "營建工程業\n",
      "服務業\n",
      "批發及零售業\n",
      "運輸及倉儲業\n",
      "住宿及餐飲業\n",
      "出版_影音製作_傳播及資通訊服務業\n",
      "金融及保險業\n",
      "不動產業\n",
      "專業科學及技術服務業\n",
      "支援服務業\n",
      "教育業\n",
      "醫療保健及社會工作服務業\n",
      "藝術_娛樂及休閒服務業\n",
      "其他服務業\n"
     ]
    }
   ],
   "source": [
    "data = json.load(file)\n",
    " \n",
    "# Iterating through the json\n",
    "# list\n",
    "for i in data['依行業別']:\n",
    "    print(i)"
   ]
  },
  {
   "cell_type": "code",
   "execution_count": 30,
   "id": "4da42fe0",
   "metadata": {},
   "outputs": [],
   "source": [
    "ex_dict = {\"a\": \"anteater\", \"b\": \"bumblebee\", \"c\": \"cheetah\"}"
   ]
  },
  {
   "cell_type": "code",
   "execution_count": 31,
   "id": "33b103b1",
   "metadata": {},
   "outputs": [
    {
     "data": {
      "text/plain": [
       "dict_keys(['a', 'b', 'c'])"
      ]
     },
     "execution_count": 31,
     "metadata": {},
     "output_type": "execute_result"
    }
   ],
   "source": [
    "ex_dict.keys()"
   ]
  },
  {
   "cell_type": "code",
   "execution_count": 32,
   "id": "812f8992",
   "metadata": {},
   "outputs": [
    {
     "data": {
      "text/plain": [
       "dict_items([('總平均', {'平均值': 44413}), ('依性別', {'男性': 47398, '女性': 41097}), ('依行業別', {'工業': 42318, '礦業及土石採取業': 44708, '製造業': 42180, '電力及燃氣供應業': 65023, '用水供應及污染整治業': 37794, '營建工程業': 41866, '服務業': 45936, '批發及零售業': 43008, '運輸及倉儲業': 47164, '住宿及餐飲業': 33829, '出版_影音製作_傳播及資通訊服務業': 64011, '金融及保險業': 64810, '不動產業': 44132, '專業科學及技術服務業': 56093, '支援服務業': 35170, '教育業': 29113, '醫療保健及社會工作服務業': 54881, '藝術_娛樂及休閒服務業': 36849, '其他服務業': 34161})])"
      ]
     },
     "execution_count": 32,
     "metadata": {},
     "output_type": "execute_result"
    }
   ],
   "source": [
    "data.items()"
   ]
  },
  {
   "cell_type": "code",
   "execution_count": 33,
   "id": "4d0e9313",
   "metadata": {},
   "outputs": [
    {
     "data": {
      "text/plain": [
       "{'工業': 42318,\n",
       " '礦業及土石採取業': 44708,\n",
       " '製造業': 42180,\n",
       " '電力及燃氣供應業': 65023,\n",
       " '用水供應及污染整治業': 37794,\n",
       " '營建工程業': 41866,\n",
       " '服務業': 45936,\n",
       " '批發及零售業': 43008,\n",
       " '運輸及倉儲業': 47164,\n",
       " '住宿及餐飲業': 33829,\n",
       " '出版_影音製作_傳播及資通訊服務業': 64011,\n",
       " '金融及保險業': 64810,\n",
       " '不動產業': 44132,\n",
       " '專業科學及技術服務業': 56093,\n",
       " '支援服務業': 35170,\n",
       " '教育業': 29113,\n",
       " '醫療保健及社會工作服務業': 54881,\n",
       " '藝術_娛樂及休閒服務業': 36849,\n",
       " '其他服務業': 34161}"
      ]
     },
     "execution_count": 33,
     "metadata": {},
     "output_type": "execute_result"
    }
   ],
   "source": [
    "data['依行業別']"
   ]
  },
  {
   "cell_type": "code",
   "execution_count": null,
   "id": "c43c2ef2",
   "metadata": {},
   "outputs": [],
   "source": []
  }
 ],
 "metadata": {
  "kernelspec": {
   "display_name": "Python 3 (ipykernel)",
   "language": "python",
   "name": "python3"
  },
  "language_info": {
   "codemirror_mode": {
    "name": "ipython",
    "version": 3
   },
   "file_extension": ".py",
   "mimetype": "text/x-python",
   "name": "python",
   "nbconvert_exporter": "python",
   "pygments_lexer": "ipython3",
   "version": "3.9.12"
  }
 },
 "nbformat": 4,
 "nbformat_minor": 5
}

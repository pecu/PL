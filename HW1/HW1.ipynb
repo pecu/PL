{
 "cells": [
  {
   "cell_type": "code",
   "execution_count": 2,
   "id": "03c14b7c",
   "metadata": {},
   "outputs": [
    {
     "data": {
      "text/html": [
       "<div>\n",
       "<style scoped>\n",
       "    .dataframe tbody tr th:only-of-type {\n",
       "        vertical-align: middle;\n",
       "    }\n",
       "\n",
       "    .dataframe tbody tr th {\n",
       "        vertical-align: top;\n",
       "    }\n",
       "\n",
       "    .dataframe thead th {\n",
       "        text-align: right;\n",
       "    }\n",
       "</style>\n",
       "<table border=\"1\" class=\"dataframe\">\n",
       "  <thead>\n",
       "    <tr style=\"text-align: right;\">\n",
       "      <th></th>\n",
       "      <th>0</th>\n",
       "      <th>1</th>\n",
       "      <th>2</th>\n",
       "      <th>3</th>\n",
       "      <th>4</th>\n",
       "      <th>5</th>\n",
       "      <th>6</th>\n",
       "      <th>7</th>\n",
       "      <th>8</th>\n",
       "      <th>9</th>\n",
       "      <th>10</th>\n",
       "      <th>11</th>\n",
       "      <th>12</th>\n",
       "      <th>13</th>\n",
       "      <th>14</th>\n",
       "    </tr>\n",
       "  </thead>\n",
       "  <tbody>\n",
       "    <tr>\n",
       "      <th>0</th>\n",
       "      <td>39</td>\n",
       "      <td>State-gov</td>\n",
       "      <td>77516</td>\n",
       "      <td>Bachelors</td>\n",
       "      <td>13</td>\n",
       "      <td>Never-married</td>\n",
       "      <td>Adm-clerical</td>\n",
       "      <td>Not-in-family</td>\n",
       "      <td>White</td>\n",
       "      <td>Male</td>\n",
       "      <td>2174</td>\n",
       "      <td>0</td>\n",
       "      <td>40</td>\n",
       "      <td>United-States</td>\n",
       "      <td>&lt;=50K</td>\n",
       "    </tr>\n",
       "    <tr>\n",
       "      <th>1</th>\n",
       "      <td>50</td>\n",
       "      <td>Self-emp-not-inc</td>\n",
       "      <td>83311</td>\n",
       "      <td>Bachelors</td>\n",
       "      <td>13</td>\n",
       "      <td>Married-civ-spouse</td>\n",
       "      <td>Exec-managerial</td>\n",
       "      <td>Husband</td>\n",
       "      <td>White</td>\n",
       "      <td>Male</td>\n",
       "      <td>0</td>\n",
       "      <td>0</td>\n",
       "      <td>13</td>\n",
       "      <td>United-States</td>\n",
       "      <td>&lt;=50K</td>\n",
       "    </tr>\n",
       "    <tr>\n",
       "      <th>2</th>\n",
       "      <td>38</td>\n",
       "      <td>Private</td>\n",
       "      <td>215646</td>\n",
       "      <td>HS-grad</td>\n",
       "      <td>9</td>\n",
       "      <td>Divorced</td>\n",
       "      <td>Handlers-cleaners</td>\n",
       "      <td>Not-in-family</td>\n",
       "      <td>White</td>\n",
       "      <td>Male</td>\n",
       "      <td>0</td>\n",
       "      <td>0</td>\n",
       "      <td>40</td>\n",
       "      <td>United-States</td>\n",
       "      <td>&lt;=50K</td>\n",
       "    </tr>\n",
       "    <tr>\n",
       "      <th>3</th>\n",
       "      <td>53</td>\n",
       "      <td>Private</td>\n",
       "      <td>234721</td>\n",
       "      <td>11th</td>\n",
       "      <td>7</td>\n",
       "      <td>Married-civ-spouse</td>\n",
       "      <td>Handlers-cleaners</td>\n",
       "      <td>Husband</td>\n",
       "      <td>Black</td>\n",
       "      <td>Male</td>\n",
       "      <td>0</td>\n",
       "      <td>0</td>\n",
       "      <td>40</td>\n",
       "      <td>United-States</td>\n",
       "      <td>&lt;=50K</td>\n",
       "    </tr>\n",
       "    <tr>\n",
       "      <th>4</th>\n",
       "      <td>28</td>\n",
       "      <td>Private</td>\n",
       "      <td>338409</td>\n",
       "      <td>Bachelors</td>\n",
       "      <td>13</td>\n",
       "      <td>Married-civ-spouse</td>\n",
       "      <td>Prof-specialty</td>\n",
       "      <td>Wife</td>\n",
       "      <td>Black</td>\n",
       "      <td>Female</td>\n",
       "      <td>0</td>\n",
       "      <td>0</td>\n",
       "      <td>40</td>\n",
       "      <td>Cuba</td>\n",
       "      <td>&lt;=50K</td>\n",
       "    </tr>\n",
       "  </tbody>\n",
       "</table>\n",
       "</div>"
      ],
      "text/plain": [
       "   0                  1       2           3   4                    5   \\\n",
       "0  39          State-gov   77516   Bachelors  13        Never-married   \n",
       "1  50   Self-emp-not-inc   83311   Bachelors  13   Married-civ-spouse   \n",
       "2  38            Private  215646     HS-grad   9             Divorced   \n",
       "3  53            Private  234721        11th   7   Married-civ-spouse   \n",
       "4  28            Private  338409   Bachelors  13   Married-civ-spouse   \n",
       "\n",
       "                   6               7       8        9     10  11  12  \\\n",
       "0        Adm-clerical   Not-in-family   White     Male  2174   0  40   \n",
       "1     Exec-managerial         Husband   White     Male     0   0  13   \n",
       "2   Handlers-cleaners   Not-in-family   White     Male     0   0  40   \n",
       "3   Handlers-cleaners         Husband   Black     Male     0   0  40   \n",
       "4      Prof-specialty            Wife   Black   Female     0   0  40   \n",
       "\n",
       "               13      14  \n",
       "0   United-States   <=50K  \n",
       "1   United-States   <=50K  \n",
       "2   United-States   <=50K  \n",
       "3   United-States   <=50K  \n",
       "4            Cuba   <=50K  "
      ]
     },
     "execution_count": 2,
     "metadata": {},
     "output_type": "execute_result"
    }
   ],
   "source": [
    "import pandas as pd\n",
    "data = pd.read_csv('adult.data.csv', header=None)\n",
    "data.head()"
   ]
  },
  {
   "cell_type": "code",
   "execution_count": 3,
   "id": "26174242",
   "metadata": {},
   "outputs": [],
   "source": [
    "data.columns = ['age', 'workclass', 'fnlwgt', 'education', 'education_num',\n",
    "              'marital_status', 'occupation', 'relationship', 'race', 'sex',\n",
    "              'capital_gain', 'capital_loss', 'hours_per_week', 'native_country', 'income']"
   ]
  },
  {
   "cell_type": "code",
   "execution_count": 5,
   "id": "823dbb25",
   "metadata": {},
   "outputs": [
    {
     "data": {
      "text/html": [
       "<div>\n",
       "<style scoped>\n",
       "    .dataframe tbody tr th:only-of-type {\n",
       "        vertical-align: middle;\n",
       "    }\n",
       "\n",
       "    .dataframe tbody tr th {\n",
       "        vertical-align: top;\n",
       "    }\n",
       "\n",
       "    .dataframe thead th {\n",
       "        text-align: right;\n",
       "    }\n",
       "</style>\n",
       "<table border=\"1\" class=\"dataframe\">\n",
       "  <thead>\n",
       "    <tr style=\"text-align: right;\">\n",
       "      <th></th>\n",
       "      <th>age</th>\n",
       "      <th>workclass</th>\n",
       "      <th>fnlwgt</th>\n",
       "      <th>education</th>\n",
       "      <th>education_num</th>\n",
       "      <th>marital_status</th>\n",
       "      <th>occupation</th>\n",
       "      <th>relationship</th>\n",
       "      <th>race</th>\n",
       "      <th>sex</th>\n",
       "      <th>capital_gain</th>\n",
       "      <th>capital_loss</th>\n",
       "      <th>hours_per_week</th>\n",
       "      <th>native_country</th>\n",
       "      <th>income</th>\n",
       "    </tr>\n",
       "  </thead>\n",
       "  <tbody>\n",
       "    <tr>\n",
       "      <th>0</th>\n",
       "      <td>39</td>\n",
       "      <td>State-gov</td>\n",
       "      <td>77516</td>\n",
       "      <td>Bachelors</td>\n",
       "      <td>13</td>\n",
       "      <td>Never-married</td>\n",
       "      <td>Adm-clerical</td>\n",
       "      <td>Not-in-family</td>\n",
       "      <td>White</td>\n",
       "      <td>Male</td>\n",
       "      <td>2174</td>\n",
       "      <td>0</td>\n",
       "      <td>40</td>\n",
       "      <td>United-States</td>\n",
       "      <td>&lt;=50K</td>\n",
       "    </tr>\n",
       "    <tr>\n",
       "      <th>1</th>\n",
       "      <td>50</td>\n",
       "      <td>Self-emp-not-inc</td>\n",
       "      <td>83311</td>\n",
       "      <td>Bachelors</td>\n",
       "      <td>13</td>\n",
       "      <td>Married-civ-spouse</td>\n",
       "      <td>Exec-managerial</td>\n",
       "      <td>Husband</td>\n",
       "      <td>White</td>\n",
       "      <td>Male</td>\n",
       "      <td>0</td>\n",
       "      <td>0</td>\n",
       "      <td>13</td>\n",
       "      <td>United-States</td>\n",
       "      <td>&lt;=50K</td>\n",
       "    </tr>\n",
       "    <tr>\n",
       "      <th>2</th>\n",
       "      <td>38</td>\n",
       "      <td>Private</td>\n",
       "      <td>215646</td>\n",
       "      <td>HS-grad</td>\n",
       "      <td>9</td>\n",
       "      <td>Divorced</td>\n",
       "      <td>Handlers-cleaners</td>\n",
       "      <td>Not-in-family</td>\n",
       "      <td>White</td>\n",
       "      <td>Male</td>\n",
       "      <td>0</td>\n",
       "      <td>0</td>\n",
       "      <td>40</td>\n",
       "      <td>United-States</td>\n",
       "      <td>&lt;=50K</td>\n",
       "    </tr>\n",
       "    <tr>\n",
       "      <th>3</th>\n",
       "      <td>53</td>\n",
       "      <td>Private</td>\n",
       "      <td>234721</td>\n",
       "      <td>11th</td>\n",
       "      <td>7</td>\n",
       "      <td>Married-civ-spouse</td>\n",
       "      <td>Handlers-cleaners</td>\n",
       "      <td>Husband</td>\n",
       "      <td>Black</td>\n",
       "      <td>Male</td>\n",
       "      <td>0</td>\n",
       "      <td>0</td>\n",
       "      <td>40</td>\n",
       "      <td>United-States</td>\n",
       "      <td>&lt;=50K</td>\n",
       "    </tr>\n",
       "    <tr>\n",
       "      <th>4</th>\n",
       "      <td>28</td>\n",
       "      <td>Private</td>\n",
       "      <td>338409</td>\n",
       "      <td>Bachelors</td>\n",
       "      <td>13</td>\n",
       "      <td>Married-civ-spouse</td>\n",
       "      <td>Prof-specialty</td>\n",
       "      <td>Wife</td>\n",
       "      <td>Black</td>\n",
       "      <td>Female</td>\n",
       "      <td>0</td>\n",
       "      <td>0</td>\n",
       "      <td>40</td>\n",
       "      <td>Cuba</td>\n",
       "      <td>&lt;=50K</td>\n",
       "    </tr>\n",
       "  </tbody>\n",
       "</table>\n",
       "</div>"
      ],
      "text/plain": [
       "   age          workclass  fnlwgt   education  education_num  \\\n",
       "0   39          State-gov   77516   Bachelors             13   \n",
       "1   50   Self-emp-not-inc   83311   Bachelors             13   \n",
       "2   38            Private  215646     HS-grad              9   \n",
       "3   53            Private  234721        11th              7   \n",
       "4   28            Private  338409   Bachelors             13   \n",
       "\n",
       "        marital_status          occupation    relationship    race      sex  \\\n",
       "0        Never-married        Adm-clerical   Not-in-family   White     Male   \n",
       "1   Married-civ-spouse     Exec-managerial         Husband   White     Male   \n",
       "2             Divorced   Handlers-cleaners   Not-in-family   White     Male   \n",
       "3   Married-civ-spouse   Handlers-cleaners         Husband   Black     Male   \n",
       "4   Married-civ-spouse      Prof-specialty            Wife   Black   Female   \n",
       "\n",
       "   capital_gain  capital_loss  hours_per_week  native_country  income  \n",
       "0          2174             0              40   United-States   <=50K  \n",
       "1             0             0              13   United-States   <=50K  \n",
       "2             0             0              40   United-States   <=50K  \n",
       "3             0             0              40   United-States   <=50K  \n",
       "4             0             0              40            Cuba   <=50K  "
      ]
     },
     "execution_count": 5,
     "metadata": {},
     "output_type": "execute_result"
    }
   ],
   "source": [
    "data.head()"
   ]
  },
  {
   "cell_type": "markdown",
   "id": "57bf0f88",
   "metadata": {},
   "source": [
    "年齡和收入的關係是甚麼？"
   ]
  },
  {
   "cell_type": "code",
   "execution_count": 5,
   "id": "0b7b3578",
   "metadata": {},
   "outputs": [],
   "source": [
    "age = data['age']\n",
    "income = data['income']"
   ]
  },
  {
   "cell_type": "code",
   "execution_count": 10,
   "id": "f33d4fa8",
   "metadata": {},
   "outputs": [],
   "source": [
    "age_income = pd.concat([age, income], axis=1)\n",
    "age_income.columns = ['age', 'income']  # 可以這樣設定列名"
   ]
  },
  {
   "cell_type": "code",
   "execution_count": 11,
   "id": "a9a079e8",
   "metadata": {},
   "outputs": [
    {
     "data": {
      "text/plain": [
       "array([' <=50K', ' >50K'], dtype=object)"
      ]
     },
     "execution_count": 11,
     "metadata": {},
     "output_type": "execute_result"
    }
   ],
   "source": [
    "# 我想要在 income 中找出有幾種收入的類別\n",
    "\n",
    "age_income['income'].unique()"
   ]
  },
  {
   "cell_type": "code",
   "execution_count": 23,
   "id": "01cc48f4",
   "metadata": {},
   "outputs": [
    {
     "data": {
      "text/plain": [
       "<AxesSubplot:xlabel='income', ylabel='age'>"
      ]
     },
     "execution_count": 23,
     "metadata": {},
     "output_type": "execute_result"
    },
    {
     "data": {
      "image/png": "[encoded data removed]",
      "text/plain": [
       "<Figure size 432x288 with 1 Axes>"
      ]
     },
     "metadata": {
      "needs_background": "light"
     },
     "output_type": "display_data"
    }
   ],
   "source": [
    "sns.violinplot(data=data, x=\"income\", y=\"age\", hue=\"sex\", split=True, inner=\"quart\")"
   ]
  },
  {
   "cell_type": "markdown",
   "id": "e8c1f410",
   "metadata": {},
   "source": [
    "哪些工作類型更容易賺到高薪？哪些工作類型更容易賺到低薪？"
   ]
  },
  {
   "cell_type": "code",
   "execution_count": 26,
   "id": "c37bab36",
   "metadata": {},
   "outputs": [
    {
     "data": {
      "text/plain": [
       "array([' State-gov', ' Self-emp-not-inc', ' Private', ' Federal-gov',\n",
       "       ' Local-gov', ' ?', ' Self-emp-inc', ' Without-pay',\n",
       "       ' Never-worked'], dtype=object)"
      ]
     },
     "execution_count": 26,
     "metadata": {},
     "output_type": "execute_result"
    }
   ],
   "source": [
    "data['workclass'].unique()"
   ]
  },
  {
   "cell_type": "code",
   "execution_count": 30,
   "id": "32b902cd",
   "metadata": {},
   "outputs": [
    {
     "data": {
      "text/html": [
       "<div>\n",
       "<style scoped>\n",
       "    .dataframe tbody tr th:only-of-type {\n",
       "        vertical-align: middle;\n",
       "    }\n",
       "\n",
       "    .dataframe tbody tr th {\n",
       "        vertical-align: top;\n",
       "    }\n",
       "\n",
       "    .dataframe thead th {\n",
       "        text-align: right;\n",
       "    }\n",
       "</style>\n",
       "<table border=\"1\" class=\"dataframe\">\n",
       "  <thead>\n",
       "    <tr style=\"text-align: right;\">\n",
       "      <th>income</th>\n",
       "      <th>&lt;=50K</th>\n",
       "      <th>&gt;50K</th>\n",
       "    </tr>\n",
       "    <tr>\n",
       "      <th>workclass</th>\n",
       "      <th></th>\n",
       "      <th></th>\n",
       "    </tr>\n",
       "  </thead>\n",
       "  <tbody>\n",
       "    <tr>\n",
       "      <th>?</th>\n",
       "      <td>1645.0</td>\n",
       "      <td>191.0</td>\n",
       "    </tr>\n",
       "    <tr>\n",
       "      <th>Federal-gov</th>\n",
       "      <td>589.0</td>\n",
       "      <td>371.0</td>\n",
       "    </tr>\n",
       "    <tr>\n",
       "      <th>Local-gov</th>\n",
       "      <td>1476.0</td>\n",
       "      <td>617.0</td>\n",
       "    </tr>\n",
       "    <tr>\n",
       "      <th>Never-worked</th>\n",
       "      <td>7.0</td>\n",
       "      <td>NaN</td>\n",
       "    </tr>\n",
       "    <tr>\n",
       "      <th>Private</th>\n",
       "      <td>17733.0</td>\n",
       "      <td>4963.0</td>\n",
       "    </tr>\n",
       "    <tr>\n",
       "      <th>Self-emp-inc</th>\n",
       "      <td>494.0</td>\n",
       "      <td>622.0</td>\n",
       "    </tr>\n",
       "    <tr>\n",
       "      <th>Self-emp-not-inc</th>\n",
       "      <td>1817.0</td>\n",
       "      <td>724.0</td>\n",
       "    </tr>\n",
       "    <tr>\n",
       "      <th>State-gov</th>\n",
       "      <td>945.0</td>\n",
       "      <td>353.0</td>\n",
       "    </tr>\n",
       "    <tr>\n",
       "      <th>Without-pay</th>\n",
       "      <td>14.0</td>\n",
       "      <td>NaN</td>\n",
       "    </tr>\n",
       "  </tbody>\n",
       "</table>\n",
       "</div>"
      ],
      "text/plain": [
       "income               <=50K    >50K\n",
       "workclass                         \n",
       " ?                  1645.0   191.0\n",
       " Federal-gov         589.0   371.0\n",
       " Local-gov          1476.0   617.0\n",
       " Never-worked          7.0     NaN\n",
       " Private           17733.0  4963.0\n",
       " Self-emp-inc        494.0   622.0\n",
       " Self-emp-not-inc   1817.0   724.0\n",
       " State-gov           945.0   353.0\n",
       " Without-pay          14.0     NaN"
      ]
     },
     "execution_count": 30,
     "metadata": {},
     "output_type": "execute_result"
    }
   ],
   "source": [
    "income_distribution_counts = data.groupby('workclass')['income'].value_counts().unstack()\n",
    "income_distribution_counts"
   ]
  },
  {
   "cell_type": "code",
   "execution_count": 31,
   "id": "8067f207",
   "metadata": {},
   "outputs": [
    {
     "data": {
      "image/png": "[encoded data removed]",
      "text/plain": [
       "<Figure size 720x432 with 1 Axes>"
      ]
     },
     "metadata": {
      "needs_background": "light"
     },
     "output_type": "display_data"
    }
   ],
   "source": [
    "import matplotlib.pyplot as plt\n",
    "\n",
    "# 繪製柱狀圖\n",
    "income_distribution_counts.plot(kind='bar', figsize=(10, 6))\n",
    "\n",
    "plt.title('Income Distribution Counts by Workclass')  # 設定圖表標題\n",
    "plt.xlabel('Workclass')  # 設定X軸標籤\n",
    "plt.ylabel('Counts')  # 設定Y軸標籤\n",
    "plt.xticks(rotation=45)  # 旋轉X軸標籤，以便更好地展示\n",
    "plt.legend(title='Income')  # 設定圖例標題\n",
    "plt.tight_layout()  # 自動調整子圖參數, 使之填充整個圖像區域\n",
    "plt.show()"
   ]
  },
  {
   "cell_type": "markdown",
   "id": "bb39d21d",
   "metadata": {},
   "source": [
    "工作時間是否影響收入？"
   ]
  },
  {
   "cell_type": "code",
   "execution_count": 32,
   "id": "df30f5b4",
   "metadata": {},
   "outputs": [
    {
     "data": {
      "text/html": [
       "<div>\n",
       "<style scoped>\n",
       "    .dataframe tbody tr th:only-of-type {\n",
       "        vertical-align: middle;\n",
       "    }\n",
       "\n",
       "    .dataframe tbody tr th {\n",
       "        vertical-align: top;\n",
       "    }\n",
       "\n",
       "    .dataframe thead th {\n",
       "        text-align: right;\n",
       "    }\n",
       "</style>\n",
       "<table border=\"1\" class=\"dataframe\">\n",
       "  <thead>\n",
       "    <tr style=\"text-align: right;\">\n",
       "      <th>income</th>\n",
       "      <th>&lt;=50K</th>\n",
       "      <th>&gt;50K</th>\n",
       "    </tr>\n",
       "    <tr>\n",
       "      <th>hours_per_week</th>\n",
       "      <th></th>\n",
       "      <th></th>\n",
       "    </tr>\n",
       "  </thead>\n",
       "  <tbody>\n",
       "    <tr>\n",
       "      <th>1</th>\n",
       "      <td>18.0</td>\n",
       "      <td>2.0</td>\n",
       "    </tr>\n",
       "    <tr>\n",
       "      <th>2</th>\n",
       "      <td>24.0</td>\n",
       "      <td>8.0</td>\n",
       "    </tr>\n",
       "    <tr>\n",
       "      <th>3</th>\n",
       "      <td>38.0</td>\n",
       "      <td>1.0</td>\n",
       "    </tr>\n",
       "    <tr>\n",
       "      <th>4</th>\n",
       "      <td>51.0</td>\n",
       "      <td>3.0</td>\n",
       "    </tr>\n",
       "    <tr>\n",
       "      <th>5</th>\n",
       "      <td>53.0</td>\n",
       "      <td>7.0</td>\n",
       "    </tr>\n",
       "    <tr>\n",
       "      <th>...</th>\n",
       "      <td>...</td>\n",
       "      <td>...</td>\n",
       "    </tr>\n",
       "    <tr>\n",
       "      <th>95</th>\n",
       "      <td>1.0</td>\n",
       "      <td>1.0</td>\n",
       "    </tr>\n",
       "    <tr>\n",
       "      <th>96</th>\n",
       "      <td>4.0</td>\n",
       "      <td>1.0</td>\n",
       "    </tr>\n",
       "    <tr>\n",
       "      <th>97</th>\n",
       "      <td>1.0</td>\n",
       "      <td>1.0</td>\n",
       "    </tr>\n",
       "    <tr>\n",
       "      <th>98</th>\n",
       "      <td>8.0</td>\n",
       "      <td>3.0</td>\n",
       "    </tr>\n",
       "    <tr>\n",
       "      <th>99</th>\n",
       "      <td>60.0</td>\n",
       "      <td>25.0</td>\n",
       "    </tr>\n",
       "  </tbody>\n",
       "</table>\n",
       "<p>94 rows × 2 columns</p>\n",
       "</div>"
      ],
      "text/plain": [
       "income           <=50K   >50K\n",
       "hours_per_week               \n",
       "1                 18.0    2.0\n",
       "2                 24.0    8.0\n",
       "3                 38.0    1.0\n",
       "4                 51.0    3.0\n",
       "5                 53.0    7.0\n",
       "...                ...    ...\n",
       "95                 1.0    1.0\n",
       "96                 4.0    1.0\n",
       "97                 1.0    1.0\n",
       "98                 8.0    3.0\n",
       "99                60.0   25.0\n",
       "\n",
       "[94 rows x 2 columns]"
      ]
     },
     "execution_count": 32,
     "metadata": {},
     "output_type": "execute_result"
    }
   ],
   "source": [
    "income_hours_distribution_counts = data.groupby('hours_per_week')['income'].value_counts().unstack()\n",
    "income_hours_distribution_counts"
   ]
  },
  {
   "cell_type": "code",
   "execution_count": 33,
   "id": "5e205d9b",
   "metadata": {},
   "outputs": [
    {
     "data": {
      "text/plain": [
       "<AxesSubplot:xlabel='income', ylabel='hours_per_week'>"
      ]
     },
     "execution_count": 33,
     "metadata": {},
     "output_type": "execute_result"
    },
    {
     "data": {
      "image/png": "[encoded data removed]",
      "text/plain": [
       "<Figure size 432x288 with 1 Axes>"
      ]
     },
     "metadata": {
      "needs_background": "light"
     },
     "output_type": "display_data"
    }
   ],
   "source": [
    "sns.violinplot(data=data, x=\"income\", y=\"hours_per_week\", hue=\"sex\", split=True, inner=\"quart\")"
   ]
  },
  {
   "cell_type": "markdown",
   "id": "da639806",
   "metadata": {},
   "source": [
    "想看看工作時數少又收入高的是哪類人"
   ]
  },
  {
   "cell_type": "code",
   "execution_count": 39,
   "id": "c07cbb80",
   "metadata": {},
   "outputs": [
    {
     "data": {
      "text/html": [
       "<div>\n",
       "<style scoped>\n",
       "    .dataframe tbody tr th:only-of-type {\n",
       "        vertical-align: middle;\n",
       "    }\n",
       "\n",
       "    .dataframe tbody tr th {\n",
       "        vertical-align: top;\n",
       "    }\n",
       "\n",
       "    .dataframe thead th {\n",
       "        text-align: right;\n",
       "    }\n",
       "</style>\n",
       "<table border=\"1\" class=\"dataframe\">\n",
       "  <thead>\n",
       "    <tr style=\"text-align: right;\">\n",
       "      <th>education</th>\n",
       "      <th>10th</th>\n",
       "      <th>Assoc-acdm</th>\n",
       "      <th>Assoc-voc</th>\n",
       "      <th>Bachelors</th>\n",
       "      <th>Doctorate</th>\n",
       "      <th>HS-grad</th>\n",
       "      <th>Masters</th>\n",
       "      <th>Prof-school</th>\n",
       "      <th>Some-college</th>\n",
       "    </tr>\n",
       "    <tr>\n",
       "      <th>workclass</th>\n",
       "      <th></th>\n",
       "      <th></th>\n",
       "      <th></th>\n",
       "      <th></th>\n",
       "      <th></th>\n",
       "      <th></th>\n",
       "      <th></th>\n",
       "      <th></th>\n",
       "      <th></th>\n",
       "    </tr>\n",
       "  </thead>\n",
       "  <tbody>\n",
       "    <tr>\n",
       "      <th>?</th>\n",
       "      <td>NaN</td>\n",
       "      <td>2.0</td>\n",
       "      <td>1.0</td>\n",
       "      <td>11.0</td>\n",
       "      <td>3.0</td>\n",
       "      <td>3.0</td>\n",
       "      <td>5.0</td>\n",
       "      <td>2.0</td>\n",
       "      <td>5.0</td>\n",
       "    </tr>\n",
       "    <tr>\n",
       "      <th>Federal-gov</th>\n",
       "      <td>NaN</td>\n",
       "      <td>NaN</td>\n",
       "      <td>NaN</td>\n",
       "      <td>NaN</td>\n",
       "      <td>1.0</td>\n",
       "      <td>NaN</td>\n",
       "      <td>NaN</td>\n",
       "      <td>NaN</td>\n",
       "      <td>1.0</td>\n",
       "    </tr>\n",
       "    <tr>\n",
       "      <th>Local-gov</th>\n",
       "      <td>NaN</td>\n",
       "      <td>NaN</td>\n",
       "      <td>NaN</td>\n",
       "      <td>NaN</td>\n",
       "      <td>NaN</td>\n",
       "      <td>1.0</td>\n",
       "      <td>3.0</td>\n",
       "      <td>NaN</td>\n",
       "      <td>NaN</td>\n",
       "    </tr>\n",
       "    <tr>\n",
       "      <th>Private</th>\n",
       "      <td>NaN</td>\n",
       "      <td>2.0</td>\n",
       "      <td>1.0</td>\n",
       "      <td>13.0</td>\n",
       "      <td>NaN</td>\n",
       "      <td>6.0</td>\n",
       "      <td>4.0</td>\n",
       "      <td>2.0</td>\n",
       "      <td>16.0</td>\n",
       "    </tr>\n",
       "    <tr>\n",
       "      <th>Self-emp-inc</th>\n",
       "      <td>NaN</td>\n",
       "      <td>NaN</td>\n",
       "      <td>NaN</td>\n",
       "      <td>NaN</td>\n",
       "      <td>NaN</td>\n",
       "      <td>2.0</td>\n",
       "      <td>NaN</td>\n",
       "      <td>NaN</td>\n",
       "      <td>NaN</td>\n",
       "    </tr>\n",
       "    <tr>\n",
       "      <th>Self-emp-not-inc</th>\n",
       "      <td>1.0</td>\n",
       "      <td>1.0</td>\n",
       "      <td>3.0</td>\n",
       "      <td>8.0</td>\n",
       "      <td>NaN</td>\n",
       "      <td>4.0</td>\n",
       "      <td>3.0</td>\n",
       "      <td>2.0</td>\n",
       "      <td>9.0</td>\n",
       "    </tr>\n",
       "    <tr>\n",
       "      <th>State-gov</th>\n",
       "      <td>NaN</td>\n",
       "      <td>NaN</td>\n",
       "      <td>NaN</td>\n",
       "      <td>NaN</td>\n",
       "      <td>1.0</td>\n",
       "      <td>NaN</td>\n",
       "      <td>1.0</td>\n",
       "      <td>NaN</td>\n",
       "      <td>NaN</td>\n",
       "    </tr>\n",
       "  </tbody>\n",
       "</table>\n",
       "</div>"
      ],
      "text/plain": [
       "education           10th   Assoc-acdm   Assoc-voc   Bachelors   Doctorate  \\\n",
       "workclass                                                                   \n",
       " ?                   NaN          2.0         1.0        11.0         3.0   \n",
       " Federal-gov         NaN          NaN         NaN         NaN         1.0   \n",
       " Local-gov           NaN          NaN         NaN         NaN         NaN   \n",
       " Private             NaN          2.0         1.0        13.0         NaN   \n",
       " Self-emp-inc        NaN          NaN         NaN         NaN         NaN   \n",
       " Self-emp-not-inc    1.0          1.0         3.0         8.0         NaN   \n",
       " State-gov           NaN          NaN         NaN         NaN         1.0   \n",
       "\n",
       "education           HS-grad   Masters   Prof-school   Some-college  \n",
       "workclass                                                           \n",
       " ?                      3.0       5.0           2.0            5.0  \n",
       " Federal-gov            NaN       NaN           NaN            1.0  \n",
       " Local-gov              1.0       3.0           NaN            NaN  \n",
       " Private                6.0       4.0           2.0           16.0  \n",
       " Self-emp-inc           2.0       NaN           NaN            NaN  \n",
       " Self-emp-not-inc       4.0       3.0           2.0            9.0  \n",
       " State-gov              NaN       1.0           NaN            NaN  "
      ]
     },
     "execution_count": 39,
     "metadata": {},
     "output_type": "execute_result"
    }
   ],
   "source": [
    "filtered_df = data[(data['hours_per_week'] < 20) & (data['income'] == ' >50K')]\n",
    "income_counts = filtered_df.groupby('workclass')['education'].value_counts().unstack()\n",
    "income_counts"
   ]
  },
  {
   "cell_type": "code",
   "execution_count": 38,
   "id": "3709149a",
   "metadata": {},
   "outputs": [
    {
     "data": {
      "image/png": "[encoded data removed]",
      "text/plain": [
       "<Figure size 720x432 with 1 Axes>"
      ]
     },
     "metadata": {
      "needs_background": "light"
     },
     "output_type": "display_data"
    }
   ],
   "source": [
    "import matplotlib.pyplot as plt\n",
    "\n",
    "# 繪製柱狀圖\n",
    "income_counts.plot(kind='bar', figsize=(10, 6))\n",
    "\n",
    "plt.title('Income Distribution Counts by Workclass')  # 設定圖表標題\n",
    "plt.xlabel('Workclass')  # 設定X軸標籤\n",
    "plt.ylabel('Counts')  # 設定Y軸標籤\n",
    "plt.xticks(rotation=45)  # 旋轉X軸標籤，以便更好地展示\n",
    "plt.legend(title='Income')  # 設定圖例標題\n",
    "plt.tight_layout()  # 自動調整子圖參數, 使之填充整個圖像區域\n",
    "plt.show()"
   ]
  },
  {
   "cell_type": "code",
   "execution_count": null,
   "id": "2806b18c",
   "metadata": {},
   "outputs": [],
   "source": []
  },
  {
   "cell_type": "markdown",
   "id": "d5c83665",
   "metadata": {},
   "source": [
    "1. How many men and women (sex feature) are represented in this dataset?"
   ]
  },
  {
   "cell_type": "code",
   "execution_count": 6,
   "id": "092d931f",
   "metadata": {},
   "outputs": [
    {
     "data": {
      "text/plain": [
       " Male      21790\n",
       " Female    10771\n",
       "Name: sex, dtype: int64"
      ]
     },
     "execution_count": 6,
     "metadata": {},
     "output_type": "execute_result"
    }
   ],
   "source": [
    "sex_counts = data['sex'].value_counts()\n",
    "sex_counts"
   ]
  },
  {
   "cell_type": "markdown",
   "id": "ba485abf",
   "metadata": {},
   "source": [
    "2. What is the average age (age feature) of women?"
   ]
  },
  {
   "cell_type": "code",
   "execution_count": 29,
   "id": "9856fd52",
   "metadata": {},
   "outputs": [
    {
     "data": {
      "text/plain": [
       "nan"
      ]
     },
     "execution_count": 29,
     "metadata": {},
     "output_type": "execute_result"
    }
   ],
   "source": [
    "avg_age_women = data.loc[data['sex'] == 'Female', 'age'].mean()\n",
    "avg_age_women"
   ]
  },
  {
   "cell_type": "code",
   "execution_count": 25,
   "id": "a87e65ab",
   "metadata": {},
   "outputs": [
    {
     "data": {
      "text/plain": [
       "' Male'"
      ]
     },
     "execution_count": 25,
     "metadata": {},
     "output_type": "execute_result"
    }
   ],
   "source": [
    "data['sex'][0]"
   ]
  },
  {
   "cell_type": "code",
   "execution_count": 26,
   "id": "9108f905",
   "metadata": {},
   "outputs": [
    {
     "data": {
      "text/plain": [
       "' Female'"
      ]
     },
     "execution_count": 26,
     "metadata": {},
     "output_type": "execute_result"
    }
   ],
   "source": [
    "data['sex'][4]"
   ]
  },
  {
   "cell_type": "code",
   "execution_count": 28,
   "id": "200f959e",
   "metadata": {},
   "outputs": [
    {
     "data": {
      "text/plain": [
       "36.85823043357163"
      ]
     },
     "execution_count": 28,
     "metadata": {},
     "output_type": "execute_result"
    }
   ],
   "source": [
    "avg_age_women = data.loc[data['sex'] == ' Female', 'age'].mean()\n",
    "avg_age_women"
   ]
  },
  {
   "cell_type": "markdown",
   "id": "74173b75",
   "metadata": {},
   "source": [
    "3. What is the percentage of German citizens (native-country feature)?"
   ]
  },
  {
   "cell_type": "code",
   "execution_count": 31,
   "id": "7b418a38",
   "metadata": {},
   "outputs": [
    {
     "data": {
      "text/plain": [
       "0.0"
      ]
     },
     "execution_count": 31,
     "metadata": {},
     "output_type": "execute_result"
    }
   ],
   "source": [
    "german_citizens_count = len(data.loc[data['native_country'] == 'Germany'])\n",
    "total_count = len(data)\n",
    "percentage_german_citizens = (german_citizens_count / total_count) * 100\n",
    "percentage_german_citizens"
   ]
  },
  {
   "cell_type": "code",
   "execution_count": 32,
   "id": "2bddc97f",
   "metadata": {},
   "outputs": [
    {
     "data": {
      "text/plain": [
       "' United-States'"
      ]
     },
     "execution_count": 32,
     "metadata": {},
     "output_type": "execute_result"
    }
   ],
   "source": [
    "data['native_country'][0]"
   ]
  },
  {
   "cell_type": "code",
   "execution_count": 33,
   "id": "b2e28ca7",
   "metadata": {},
   "outputs": [
    {
     "data": {
      "text/plain": [
       "0.42074874850281013"
      ]
     },
     "execution_count": 33,
     "metadata": {},
     "output_type": "execute_result"
    }
   ],
   "source": [
    "german_citizens_count = len(data.loc[data['native_country'] == ' Germany'])\n",
    "total_count = len(data)\n",
    "percentage_german_citizens = (german_citizens_count / total_count) * 100\n",
    "percentage_german_citizens"
   ]
  },
  {
   "cell_type": "markdown",
   "id": "18892968",
   "metadata": {},
   "source": [
    "4-5. What are the mean and standard deviation of age for those who earn more than 50K per year (salary feature) and those who earn less than 50K per year?"
   ]
  },
  {
   "cell_type": "code",
   "execution_count": 36,
   "id": "ac820b12",
   "metadata": {},
   "outputs": [
    {
     "name": "stdout",
     "output_type": "stream",
     "text": [
      "Age statistics for those who earn more than 50K per year:\n",
      "Mean age: 44.25 years\n",
      "Standard deviation of age: 10.52 years\n",
      "\n",
      "Age statistics for those who earn less than or equal to 50K per year:\n",
      "Mean age: 36.78 years\n",
      "Standard deviation of age: 14.02 years\n"
     ]
    }
   ],
   "source": [
    "rich_mean, rich_std = data.loc[data['income'] == ' >50K', 'age'].mean(), data.loc[data['income'] == ' >50K', 'age'].std()\n",
    "poor_mean, poor_std = data.loc[data['income'] == ' <=50K', 'age'].mean(), data.loc[data['income'] == ' <=50K', 'age'].std()\n",
    "print(\"Age statistics for those who earn more than 50K per year:\")\n",
    "print(\"Mean age: {:.2f} years\".format(rich_mean))\n",
    "print(\"Standard deviation of age: {:.2f} years\".format(rich_std))\n",
    "print(\"\\nAge statistics for those who earn less than or equal to 50K per year:\")\n",
    "print(\"Mean age: {:.2f} years\".format(poor_mean))\n",
    "print(\"Standard deviation of age: {:.2f} years\".format(poor_std))"
   ]
  },
  {
   "cell_type": "markdown",
   "id": "c9f41304",
   "metadata": {},
   "source": [
    "6. Is it true that people who earn more than 50K have at least high school education? (education – Bachelors, Prof-school, Assoc-acdm, Assoc-voc, Masters or Doctorate feature)"
   ]
  },
  {
   "cell_type": "code",
   "execution_count": 38,
   "id": "2b31ce97",
   "metadata": {},
   "outputs": [
    {
     "data": {
      "text/plain": [
       " Bachelors       2221\n",
       " HS-grad         1675\n",
       " Some-college    1387\n",
       " Masters          959\n",
       " Prof-school      423\n",
       " Assoc-voc        361\n",
       " Doctorate        306\n",
       " Assoc-acdm       265\n",
       " 10th              62\n",
       " 11th              60\n",
       " 7th-8th           40\n",
       " 12th              33\n",
       " 9th               27\n",
       " 5th-6th           16\n",
       " 1st-4th            6\n",
       "Name: education, dtype: int64"
      ]
     },
     "execution_count": 38,
     "metadata": {},
     "output_type": "execute_result"
    }
   ],
   "source": [
    "high_income_education_counts = data.loc[data['income'] == ' >50K', 'education'].value_counts()\n",
    "high_income_education_counts"
   ]
  },
  {
   "cell_type": "markdown",
   "id": "fa8c0861",
   "metadata": {},
   "source": [
    "7. Display age statistics for each race (race feature) and each gender (sex feature). Use groupby() and describe(). Find the maximum age of men of Amer-Indian-Eskimo race."
   ]
  },
  {
   "cell_type": "code",
   "execution_count": 40,
   "id": "3ae43cba",
   "metadata": {},
   "outputs": [
    {
     "name": "stdout",
     "output_type": "stream",
     "text": [
      "                               count       mean        std   min   25%   50%  \\\n",
      "race                sex                                                        \n",
      " Amer-Indian-Eskimo  Female    119.0  37.117647  13.114991  17.0  27.0  36.0   \n",
      "                     Male      192.0  37.208333  12.049563  17.0  28.0  35.0   \n",
      " Asian-Pac-Islander  Female    346.0  35.089595  12.300845  17.0  25.0  33.0   \n",
      "                     Male      693.0  39.073593  12.883944  18.0  29.0  37.0   \n",
      " Black               Female   1555.0  37.854019  12.637197  17.0  28.0  37.0   \n",
      "                     Male     1569.0  37.682600  12.882612  17.0  27.0  36.0   \n",
      " Other               Female    109.0  31.678899  11.631599  17.0  23.0  29.0   \n",
      "                     Male      162.0  34.654321  11.355531  17.0  26.0  32.0   \n",
      " White               Female   8642.0  36.811618  14.329093  17.0  25.0  35.0   \n",
      "                     Male    19174.0  39.652498  13.436029  17.0  29.0  38.0   \n",
      "\n",
      "                               75%   max  \n",
      "race                sex                   \n",
      " Amer-Indian-Eskimo  Female  46.00  80.0  \n",
      "                     Male    45.00  82.0  \n",
      " Asian-Pac-Islander  Female  43.75  75.0  \n",
      "                     Male    46.00  90.0  \n",
      " Black               Female  46.00  90.0  \n",
      "                     Male    46.00  90.0  \n",
      " Other               Female  39.00  74.0  \n",
      "                     Male    42.00  77.0  \n",
      " White               Female  46.00  90.0  \n",
      "                     Male    49.00  90.0  \n",
      "The maximum age of men of Amer-Indian-Eskimo race is: 82\n"
     ]
    }
   ],
   "source": [
    "# Display age statistics for each race and each gender\n",
    "race_gender_age_stats = data.groupby(['race', 'sex'])['age'].describe()\n",
    "print(race_gender_age_stats)\n",
    "\n",
    "# Find the maximum age of men of Amer-Indian-Eskimo race\n",
    "max_age_AIE_men = data.loc[(data['race'] == ' Amer-Indian-Eskimo') & (data['sex'] == ' Male'), 'age'].max()\n",
    "print(\"The maximum age of men of Amer-Indian-Eskimo race is:\", max_age_AIE_men)"
   ]
  },
  {
   "cell_type": "markdown",
   "id": "2b07a380",
   "metadata": {},
   "source": [
    "8. Among whom is the proportion of those who earn a lot (>50K) greater: married or single men (marital-status feature)? Consider as married those who have a marital-status starting with Married (Married-civ-spouse, Married-spouse-absent or Married-AF-spouse), the rest are considered bachelors."
   ]
  },
  {
   "cell_type": "code",
   "execution_count": 53,
   "id": "68d196f9",
   "metadata": {},
   "outputs": [],
   "source": [
    "def married_or_single(status):\n",
    "    if status.startswith(' Married'):\n",
    "        return 'Married'\n",
    "    else:\n",
    "        return 'Single'"
   ]
  },
  {
   "cell_type": "code",
   "execution_count": 54,
   "id": "881f77ad",
   "metadata": {},
   "outputs": [
    {
     "data": {
      "text/plain": [
       "marital  income\n",
       "Married   <=50K     8681\n",
       "          >50K      6736\n",
       "Single    <=50K    16039\n",
       "          >50K      1105\n",
       "dtype: int64"
      ]
     },
     "execution_count": 54,
     "metadata": {},
     "output_type": "execute_result"
    }
   ],
   "source": [
    "# Apply the function to the marital_status column to create a new column for married or single\n",
    "data['marital'] = data['marital_status'].apply(married_or_single)\n",
    "\n",
    "# Count the number of individuals in each group based on marital status and income\n",
    "counts = data.groupby(['marital', 'income']).size()\n",
    "\n",
    "# Print the result\n",
    "counts"
   ]
  },
  {
   "cell_type": "code",
   "execution_count": 52,
   "id": "764d518f",
   "metadata": {},
   "outputs": [
    {
     "data": {
      "text/plain": [
       "' Never-married'"
      ]
     },
     "execution_count": 52,
     "metadata": {},
     "output_type": "execute_result"
    }
   ],
   "source": [
    "data['marital_status'][0]"
   ]
  },
  {
   "cell_type": "code",
   "execution_count": 51,
   "id": "bc301905",
   "metadata": {},
   "outputs": [
    {
     "data": {
      "text/html": [
       "<div>\n",
       "<style scoped>\n",
       "    .dataframe tbody tr th:only-of-type {\n",
       "        vertical-align: middle;\n",
       "    }\n",
       "\n",
       "    .dataframe tbody tr th {\n",
       "        vertical-align: top;\n",
       "    }\n",
       "\n",
       "    .dataframe thead th {\n",
       "        text-align: right;\n",
       "    }\n",
       "</style>\n",
       "<table border=\"1\" class=\"dataframe\">\n",
       "  <thead>\n",
       "    <tr style=\"text-align: right;\">\n",
       "      <th></th>\n",
       "      <th>age</th>\n",
       "      <th>workclass</th>\n",
       "      <th>fnlwgt</th>\n",
       "      <th>education</th>\n",
       "      <th>education_num</th>\n",
       "      <th>marital_status</th>\n",
       "      <th>occupation</th>\n",
       "      <th>relationship</th>\n",
       "      <th>race</th>\n",
       "      <th>sex</th>\n",
       "      <th>capital_gain</th>\n",
       "      <th>capital_loss</th>\n",
       "      <th>hours_per_week</th>\n",
       "      <th>native_country</th>\n",
       "      <th>income</th>\n",
       "      <th>marital</th>\n",
       "    </tr>\n",
       "  </thead>\n",
       "  <tbody>\n",
       "    <tr>\n",
       "      <th>0</th>\n",
       "      <td>39</td>\n",
       "      <td>State-gov</td>\n",
       "      <td>77516</td>\n",
       "      <td>Bachelors</td>\n",
       "      <td>13</td>\n",
       "      <td>Never-married</td>\n",
       "      <td>Adm-clerical</td>\n",
       "      <td>Not-in-family</td>\n",
       "      <td>White</td>\n",
       "      <td>Male</td>\n",
       "      <td>2174</td>\n",
       "      <td>0</td>\n",
       "      <td>40</td>\n",
       "      <td>United-States</td>\n",
       "      <td>&lt;=50K</td>\n",
       "      <td>Single</td>\n",
       "    </tr>\n",
       "    <tr>\n",
       "      <th>1</th>\n",
       "      <td>50</td>\n",
       "      <td>Self-emp-not-inc</td>\n",
       "      <td>83311</td>\n",
       "      <td>Bachelors</td>\n",
       "      <td>13</td>\n",
       "      <td>Married-civ-spouse</td>\n",
       "      <td>Exec-managerial</td>\n",
       "      <td>Husband</td>\n",
       "      <td>White</td>\n",
       "      <td>Male</td>\n",
       "      <td>0</td>\n",
       "      <td>0</td>\n",
       "      <td>13</td>\n",
       "      <td>United-States</td>\n",
       "      <td>&lt;=50K</td>\n",
       "      <td>Single</td>\n",
       "    </tr>\n",
       "    <tr>\n",
       "      <th>2</th>\n",
       "      <td>38</td>\n",
       "      <td>Private</td>\n",
       "      <td>215646</td>\n",
       "      <td>HS-grad</td>\n",
       "      <td>9</td>\n",
       "      <td>Divorced</td>\n",
       "      <td>Handlers-cleaners</td>\n",
       "      <td>Not-in-family</td>\n",
       "      <td>White</td>\n",
       "      <td>Male</td>\n",
       "      <td>0</td>\n",
       "      <td>0</td>\n",
       "      <td>40</td>\n",
       "      <td>United-States</td>\n",
       "      <td>&lt;=50K</td>\n",
       "      <td>Single</td>\n",
       "    </tr>\n",
       "    <tr>\n",
       "      <th>3</th>\n",
       "      <td>53</td>\n",
       "      <td>Private</td>\n",
       "      <td>234721</td>\n",
       "      <td>11th</td>\n",
       "      <td>7</td>\n",
       "      <td>Married-civ-spouse</td>\n",
       "      <td>Handlers-cleaners</td>\n",
       "      <td>Husband</td>\n",
       "      <td>Black</td>\n",
       "      <td>Male</td>\n",
       "      <td>0</td>\n",
       "      <td>0</td>\n",
       "      <td>40</td>\n",
       "      <td>United-States</td>\n",
       "      <td>&lt;=50K</td>\n",
       "      <td>Single</td>\n",
       "    </tr>\n",
       "    <tr>\n",
       "      <th>4</th>\n",
       "      <td>28</td>\n",
       "      <td>Private</td>\n",
       "      <td>338409</td>\n",
       "      <td>Bachelors</td>\n",
       "      <td>13</td>\n",
       "      <td>Married-civ-spouse</td>\n",
       "      <td>Prof-specialty</td>\n",
       "      <td>Wife</td>\n",
       "      <td>Black</td>\n",
       "      <td>Female</td>\n",
       "      <td>0</td>\n",
       "      <td>0</td>\n",
       "      <td>40</td>\n",
       "      <td>Cuba</td>\n",
       "      <td>&lt;=50K</td>\n",
       "      <td>Single</td>\n",
       "    </tr>\n",
       "  </tbody>\n",
       "</table>\n",
       "</div>"
      ],
      "text/plain": [
       "   age          workclass  fnlwgt   education  education_num  \\\n",
       "0   39          State-gov   77516   Bachelors             13   \n",
       "1   50   Self-emp-not-inc   83311   Bachelors             13   \n",
       "2   38            Private  215646     HS-grad              9   \n",
       "3   53            Private  234721        11th              7   \n",
       "4   28            Private  338409   Bachelors             13   \n",
       "\n",
       "        marital_status          occupation    relationship    race      sex  \\\n",
       "0        Never-married        Adm-clerical   Not-in-family   White     Male   \n",
       "1   Married-civ-spouse     Exec-managerial         Husband   White     Male   \n",
       "2             Divorced   Handlers-cleaners   Not-in-family   White     Male   \n",
       "3   Married-civ-spouse   Handlers-cleaners         Husband   Black     Male   \n",
       "4   Married-civ-spouse      Prof-specialty            Wife   Black   Female   \n",
       "\n",
       "   capital_gain  capital_loss  hours_per_week  native_country  income  marital  \n",
       "0          2174             0              40   United-States   <=50K   Single  \n",
       "1             0             0              13   United-States   <=50K   Single  \n",
       "2             0             0              40   United-States   <=50K   Single  \n",
       "3             0             0              40   United-States   <=50K   Single  \n",
       "4             0             0              40            Cuba   <=50K   Single  "
      ]
     },
     "execution_count": 51,
     "metadata": {},
     "output_type": "execute_result"
    }
   ],
   "source": [
    "data.head()"
   ]
  },
  {
   "cell_type": "markdown",
   "id": "6cf7e24a",
   "metadata": {},
   "source": [
    "9. What is the maximum number of hours a person works per week (hours-per-week feature)? How many people work such a number of hours, and what is the percentage of those who earn a lot (>50K) among them?"
   ]
  },
  {
   "cell_type": "code",
   "execution_count": 56,
   "id": "35b1b120",
   "metadata": {},
   "outputs": [
    {
     "name": "stdout",
     "output_type": "stream",
     "text": [
      "The maximum number of hours a person works per week is: 99\n",
      "85 people work 99 hours per week\n",
      "Among those who work 99 hours per week, 29.41% earn more than 50K per year\n"
     ]
    }
   ],
   "source": [
    "max_hours = data['hours_per_week'].max()\n",
    "\n",
    "# Count the number of individuals who work the maximum number of hours per week\n",
    "max_hours_count = len(data[data['hours_per_week'] == max_hours])\n",
    "\n",
    "# Count the number of individuals who earn more than 50K per year among those who work the maximum number of hours per week\n",
    "rich_max_hours_count = len(data[(data['hours_per_week'] == max_hours) & (data['income'] == ' >50K')])\n",
    "\n",
    "# Calculate the percentage of those who earn more than 50K per year among those who work the maximum number of hours per week\n",
    "rich_max_hours_percentage = (rich_max_hours_count / max_hours_count) * 100\n",
    "\n",
    "print(\"The maximum number of hours a person works per week is:\", max_hours)\n",
    "print(\"{} people work {} hours per week\".format(max_hours_count, max_hours))\n",
    "print(\"Among those who work {} hours per week, {:.2f}% earn more than 50K per year\".format(max_hours, rich_max_hours_percentage))"
   ]
  },
  {
   "cell_type": "code",
   "execution_count": 58,
   "id": "f9e1fb2d",
   "metadata": {},
   "outputs": [
    {
     "name": "stdout",
     "output_type": "stream",
     "text": [
      "native_country  income\n",
      " ?               <=50K    40.164760\n",
      "                 >50K     45.547945\n",
      " Cambodia        <=50K    41.416667\n",
      "                 >50K     40.000000\n",
      " Canada          <=50K    37.914634\n",
      "                            ...    \n",
      " United-States   >50K     45.505369\n",
      " Vietnam         <=50K    37.193548\n",
      "                 >50K     39.200000\n",
      " Yugoslavia      <=50K    41.600000\n",
      "                 >50K     49.500000\n",
      "Name: hours_per_week, Length: 82, dtype: float64\n",
      "\n",
      "Average time of work (hours-per-week) for Japan:\n",
      "income\n",
      " <=50K    41.000000\n",
      " >50K     47.958333\n",
      "Name: hours_per_week, dtype: float64\n"
     ]
    }
   ],
   "source": [
    "# Calculate the average time of work (hours-per-week) for each country and income level\n",
    "country_income_mean = data.groupby(['native_country', 'income'])['hours_per_week'].mean()\n",
    "\n",
    "# Print the result\n",
    "print(country_income_mean)\n",
    "\n",
    "# Calculate the average time of work (hours-per-week) for Japan and income level\n",
    "japan_mean = data.loc[data['native_country'] == ' Japan'].groupby(['income'])['hours_per_week'].mean()\n",
    "\n",
    "# Print the result\n",
    "print(\"\\nAverage time of work (hours-per-week) for Japan:\")\n",
    "print(japan_mean)"
   ]
  },
  {
   "cell_type": "code",
   "execution_count": null,
   "id": "f5f1a80c",
   "metadata": {},
   "outputs": [],
   "source": []
  }
 ],
 "metadata": {
  "kernelspec": {
   "display_name": "Python 3 (ipykernel)",
   "language": "python",
   "name": "python3"
  },
  "language_info": {
   "codemirror_mode": {
    "name": "ipython",
    "version": 3
   },
   "file_extension": ".py",
   "mimetype": "text/x-python",
   "name": "python",
   "nbconvert_exporter": "python",
   "pygments_lexer": "ipython3",
   "version": "3.9.12"
  }
 },
 "nbformat": 4,
 "nbformat_minor": 5
}
